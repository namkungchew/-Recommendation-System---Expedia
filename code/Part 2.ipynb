{
 "cells": [
  {
   "cell_type": "markdown",
   "id": "1b503694",
   "metadata": {},
   "source": [
    "# Project 5: \n",
    "# Expedia Hotel Recommendations\n",
    "## Which hotel type will an Expedia customer book?"
   ]
  },
  {
   "cell_type": "markdown",
   "id": "5a9f01e1",
   "metadata": {},
   "source": [
    "## Table of Contents:\n",
    "\n",
    "### Part 1\n",
    "1. [Background](#1.-Background)  \n",
    "1. [Problem Statement](#2.-Problem-Statement)  \n",
    "1. [Executive Summary](#3.-Executive-Summary)  \n",
    "1. [Exploratory Data Analysis and Data Cleaning](#4.-Exploratory-Data-Analysis-and-Data-Cleaning)  \n",
    "    1. [Data Dictionary](#a.-Data-Dictionary)  \n",
    "    1. [Preliminary Data Cleaning](#b.-Preliminary-Data-Cleaning) \n",
    "    1. [Preliminary Exploratory Data Analysis](#c.-Preliminary-Exploratory-Data-Analysis) \n",
    "    1. [Feature Engineering](#d.-Feature-Engineering) \n",
    "    1. [More Exploratory Data Analysis](#e.-More-Exploratory-Data-Analysis) \n",
    "    1. [Final Data Cleaning and processing the whole dataset](#f.-Final-Data-Cleaning-and-processing-the-whole-dataset) \n",
    "    \n",
    "\n",
    "### Part 2\n",
    "5. [Final Dataset Preparation for Modelling](#5.-Final-Dataset-Preparation-for-Modelling)\n",
    "1. [Modeling](#6.-Modeling)    \n",
    "    1. [Preprocessing Functions](#a.-Preprocessing-Functions)\n",
    "    1. [Base Case](#b.-Base-Case)\n",
    "    1. [Categorical Naive Bayes](#c.-Categorical-Naive-Bayes)\n",
    "    1. [Random Forrest Classifier Model](#d.-Random-Forrest-Classifier-Model)\n",
    "    1. [K Nearest Neighbor](#e.-K-Nearest-Neighbor)\n",
    "1. [TensorFlow Recommedation System](#7.-TensorFlow-Recommendation-System)\n",
    "1. [Conclusion and Recommendations](#8.-Conclusion-and-Recommendations)  \n",
    "1. [References and Data Sources](#9.-References-and-Data-Sources) \n",
    "\n",
    "### Appendix\n",
    "1. [TensorFlow Recommedation System]()"
   ]
  },
  {
   "cell_type": "code",
   "execution_count": 1,
   "id": "5c32a542",
   "metadata": {},
   "outputs": [],
   "source": [
    "# import libraries\n",
    "\n",
    "import pandas as pd\n",
    "import numpy as np\n",
    "import matplotlib.pyplot as plt\n",
    "import seaborn as sns\n",
    "import pickle\n",
    "\n",
    "from sklearn.model_selection import train_test_split, cross_val_score, GridSearchCV\n",
    "from sklearn.linear_model import LogisticRegression\n",
    "from sklearn.preprocessing import StandardScaler\n",
    "from sklearn.neighbors import KNeighborsClassifier\n",
    "from sklearn.base import BaseEstimator, TransformerMixin\n",
    "\n",
    "from sklearn.metrics import f1_score, average_precision_score\n",
    "import ml_metrics as metrics\n",
    "\n",
    "from datetime import timedelta"
   ]
  },
  {
   "cell_type": "markdown",
   "id": "32dda85b",
   "metadata": {},
   "source": [
    "#### Functions to convert format of predicted results"
   ]
  },
  {
   "cell_type": "code",
   "execution_count": 2,
   "id": "b6e28f92",
   "metadata": {},
   "outputs": [],
   "source": [
    "# convert format from ml_metrics format to kaggle submission format\n",
    "\n",
    "def convert_mapkformat_to_kaggleformat(kaggle_pred, kaggle):\n",
    "    # to convert file format for ml_metrics mapk@5 to kaggle submission format\n",
    "\n",
    "    def convert_to_string(list):\n",
    "        #to convert list to string\n",
    "        list_string = [str(x) for x in list]\n",
    "        return ' '.join(list_string)\n",
    "    \n",
    "    submit['id'] = kaggle[['id']].copy(deep = True)\n",
    "    submit['hotel_cluster'] = kaggle_pred\n",
    "    submit['hotel_cluster'] = submit['hotel_cluster'].map(lambda x: convert_to_string(x))\n",
    "\n",
    "    return submit"
   ]
  },
  {
   "cell_type": "code",
   "execution_count": 3,
   "id": "ee9c113f",
   "metadata": {},
   "outputs": [],
   "source": [
    "def convert_pdformat_to_kaggleformat(kaggle_pred, kaggle):\n",
    "    \n",
    "    submit = kaggle[['id']].copy(deep = True)\n",
    "    submit['hotel_cluster']= kaggle_pred.apply(lambda x: ' '.join(kaggle_pred.columns[np.array(x).argsort()[::-1][:5]].astype(str).to_list()), axis=1)\n",
    "    \n",
    "    return submit"
   ]
  },
  {
   "cell_type": "markdown",
   "id": "385a718c",
   "metadata": {},
   "source": [
    "## 5. Final Dataset Preparation for Modelling"
   ]
  },
  {
   "cell_type": "markdown",
   "id": "6361742b",
   "metadata": {},
   "source": [
    "#### Loading in the Data"
   ]
  },
  {
   "cell_type": "code",
   "execution_count": 4,
   "id": "99890788",
   "metadata": {},
   "outputs": [],
   "source": [
    "data = pd.read_csv('../datasets/train_clean.csv')\n",
    "kaggle = pd.read_csv('../datasets/test_clean.csv')"
   ]
  },
  {
   "cell_type": "code",
   "execution_count": 5,
   "id": "85788a3f",
   "metadata": {},
   "outputs": [
    {
     "data": {
      "text/html": [
       "<div>\n",
       "<style scoped>\n",
       "    .dataframe tbody tr th:only-of-type {\n",
       "        vertical-align: middle;\n",
       "    }\n",
       "\n",
       "    .dataframe tbody tr th {\n",
       "        vertical-align: top;\n",
       "    }\n",
       "\n",
       "    .dataframe thead th {\n",
       "        text-align: right;\n",
       "    }\n",
       "</style>\n",
       "<table border=\"1\" class=\"dataframe\">\n",
       "  <thead>\n",
       "    <tr style=\"text-align: right;\">\n",
       "      <th></th>\n",
       "      <th>date_time</th>\n",
       "      <th>user_location_city</th>\n",
       "      <th>user_id</th>\n",
       "      <th>is_mobile</th>\n",
       "      <th>is_package</th>\n",
       "      <th>channel</th>\n",
       "      <th>srch_adults_cnt</th>\n",
       "      <th>srch_children_cnt</th>\n",
       "      <th>srch_rm_cnt</th>\n",
       "      <th>srch_destination_id</th>\n",
       "      <th>cnt</th>\n",
       "      <th>hotel_market</th>\n",
       "      <th>hotel_cluster</th>\n",
       "      <th>days_to_checkin</th>\n",
       "      <th>stay_length</th>\n",
       "      <th>month_of_booking</th>\n",
       "      <th>month_of_staying</th>\n",
       "    </tr>\n",
       "  </thead>\n",
       "  <tbody>\n",
       "    <tr>\n",
       "      <th>0</th>\n",
       "      <td>2014-08-11</td>\n",
       "      <td>48862</td>\n",
       "      <td>12</td>\n",
       "      <td>0</td>\n",
       "      <td>1</td>\n",
       "      <td>9</td>\n",
       "      <td>2</td>\n",
       "      <td>0</td>\n",
       "      <td>1</td>\n",
       "      <td>8250</td>\n",
       "      <td>1</td>\n",
       "      <td>628</td>\n",
       "      <td>1</td>\n",
       "      <td>18</td>\n",
       "      <td>4</td>\n",
       "      <td>8</td>\n",
       "      <td>8</td>\n",
       "    </tr>\n",
       "    <tr>\n",
       "      <th>1</th>\n",
       "      <td>2014-02-27</td>\n",
       "      <td>52078</td>\n",
       "      <td>756</td>\n",
       "      <td>0</td>\n",
       "      <td>1</td>\n",
       "      <td>4</td>\n",
       "      <td>2</td>\n",
       "      <td>0</td>\n",
       "      <td>1</td>\n",
       "      <td>8291</td>\n",
       "      <td>1</td>\n",
       "      <td>191</td>\n",
       "      <td>2</td>\n",
       "      <td>50</td>\n",
       "      <td>2</td>\n",
       "      <td>2</td>\n",
       "      <td>4</td>\n",
       "    </tr>\n",
       "  </tbody>\n",
       "</table>\n",
       "</div>"
      ],
      "text/plain": [
       "    date_time  user_location_city  user_id  is_mobile  is_package  channel  \\\n",
       "0  2014-08-11               48862       12          0           1        9   \n",
       "1  2014-02-27               52078      756          0           1        4   \n",
       "\n",
       "   srch_adults_cnt  srch_children_cnt  srch_rm_cnt  srch_destination_id  cnt  \\\n",
       "0                2                  0            1                 8250    1   \n",
       "1                2                  0            1                 8291    1   \n",
       "\n",
       "   hotel_market  hotel_cluster  days_to_checkin  stay_length  \\\n",
       "0           628              1               18            4   \n",
       "1           191              2               50            2   \n",
       "\n",
       "   month_of_booking  month_of_staying  \n",
       "0                 8                 8  \n",
       "1                 2                 4  "
      ]
     },
     "execution_count": 5,
     "metadata": {},
     "output_type": "execute_result"
    }
   ],
   "source": [
    "data.head(2)"
   ]
  },
  {
   "cell_type": "code",
   "execution_count": 6,
   "id": "75d013a6",
   "metadata": {},
   "outputs": [
    {
     "data": {
      "text/html": [
       "<div>\n",
       "<style scoped>\n",
       "    .dataframe tbody tr th:only-of-type {\n",
       "        vertical-align: middle;\n",
       "    }\n",
       "\n",
       "    .dataframe tbody tr th {\n",
       "        vertical-align: top;\n",
       "    }\n",
       "\n",
       "    .dataframe thead th {\n",
       "        text-align: right;\n",
       "    }\n",
       "</style>\n",
       "<table border=\"1\" class=\"dataframe\">\n",
       "  <thead>\n",
       "    <tr style=\"text-align: right;\">\n",
       "      <th></th>\n",
       "      <th>id</th>\n",
       "      <th>date_time</th>\n",
       "      <th>user_location_city</th>\n",
       "      <th>user_id</th>\n",
       "      <th>is_mobile</th>\n",
       "      <th>is_package</th>\n",
       "      <th>channel</th>\n",
       "      <th>srch_adults_cnt</th>\n",
       "      <th>srch_children_cnt</th>\n",
       "      <th>srch_rm_cnt</th>\n",
       "      <th>srch_destination_id</th>\n",
       "      <th>hotel_market</th>\n",
       "      <th>days_to_checkin</th>\n",
       "      <th>stay_length</th>\n",
       "      <th>month_of_booking</th>\n",
       "      <th>month_of_staying</th>\n",
       "    </tr>\n",
       "  </thead>\n",
       "  <tbody>\n",
       "    <tr>\n",
       "      <th>0</th>\n",
       "      <td>0</td>\n",
       "      <td>2015-09-03</td>\n",
       "      <td>37449</td>\n",
       "      <td>1</td>\n",
       "      <td>1</td>\n",
       "      <td>0</td>\n",
       "      <td>3</td>\n",
       "      <td>2</td>\n",
       "      <td>0</td>\n",
       "      <td>1</td>\n",
       "      <td>12243</td>\n",
       "      <td>27</td>\n",
       "      <td>259.0</td>\n",
       "      <td>4.0</td>\n",
       "      <td>9</td>\n",
       "      <td>5.0</td>\n",
       "    </tr>\n",
       "    <tr>\n",
       "      <th>1</th>\n",
       "      <td>1</td>\n",
       "      <td>2015-09-24</td>\n",
       "      <td>37449</td>\n",
       "      <td>1</td>\n",
       "      <td>1</td>\n",
       "      <td>0</td>\n",
       "      <td>10</td>\n",
       "      <td>2</td>\n",
       "      <td>0</td>\n",
       "      <td>1</td>\n",
       "      <td>14474</td>\n",
       "      <td>1540</td>\n",
       "      <td>231.0</td>\n",
       "      <td>3.0</td>\n",
       "      <td>9</td>\n",
       "      <td>5.0</td>\n",
       "    </tr>\n",
       "  </tbody>\n",
       "</table>\n",
       "</div>"
      ],
      "text/plain": [
       "   id   date_time  user_location_city  user_id  is_mobile  is_package  \\\n",
       "0   0  2015-09-03               37449        1          1           0   \n",
       "1   1  2015-09-24               37449        1          1           0   \n",
       "\n",
       "   channel  srch_adults_cnt  srch_children_cnt  srch_rm_cnt  \\\n",
       "0        3                2                  0            1   \n",
       "1       10                2                  0            1   \n",
       "\n",
       "   srch_destination_id  hotel_market  days_to_checkin  stay_length  \\\n",
       "0                12243            27            259.0          4.0   \n",
       "1                14474          1540            231.0          3.0   \n",
       "\n",
       "   month_of_booking  month_of_staying  \n",
       "0                 9               5.0  \n",
       "1                 9               5.0  "
      ]
     },
     "execution_count": 6,
     "metadata": {},
     "output_type": "execute_result"
    }
   ],
   "source": [
    "kaggle.head(2)"
   ]
  },
  {
   "cell_type": "code",
   "execution_count": 7,
   "id": "7e20347f",
   "metadata": {},
   "outputs": [
    {
     "data": {
      "text/plain": [
       "date_time                 726\n",
       "user_location_city      36917\n",
       "user_id                813985\n",
       "is_mobile                   2\n",
       "is_package                  2\n",
       "channel                    11\n",
       "srch_adults_cnt            10\n",
       "srch_children_cnt          10\n",
       "srch_rm_cnt                 9\n",
       "srch_destination_id     36933\n",
       "cnt                        16\n",
       "hotel_market             2103\n",
       "hotel_cluster             100\n",
       "days_to_checkin           497\n",
       "stay_length                35\n",
       "month_of_booking           12\n",
       "month_of_staying           12\n",
       "dtype: int64"
      ]
     },
     "execution_count": 7,
     "metadata": {},
     "output_type": "execute_result"
    }
   ],
   "source": [
    "data.nunique()"
   ]
  },
  {
   "cell_type": "code",
   "execution_count": 8,
   "id": "ea22493e",
   "metadata": {},
   "outputs": [
    {
     "data": {
      "text/plain": [
       "id                     2528243\n",
       "date_time                  360\n",
       "user_location_city       36722\n",
       "user_id                1181577\n",
       "is_mobile                    2\n",
       "is_package                   2\n",
       "channel                     11\n",
       "srch_adults_cnt             10\n",
       "srch_children_cnt           10\n",
       "srch_rm_cnt                  9\n",
       "srch_destination_id      40718\n",
       "hotel_market              2115\n",
       "days_to_checkin            504\n",
       "stay_length                223\n",
       "month_of_booking            12\n",
       "month_of_staying            12\n",
       "dtype: int64"
      ]
     },
     "execution_count": 8,
     "metadata": {},
     "output_type": "execute_result"
    }
   ],
   "source": [
    "kaggle.nunique()"
   ]
  },
  {
   "cell_type": "code",
   "execution_count": 9,
   "id": "1c51956f",
   "metadata": {},
   "outputs": [
    {
     "data": {
      "text/plain": [
       "date_time              object\n",
       "user_location_city      int64\n",
       "user_id                 int64\n",
       "is_mobile               int64\n",
       "is_package              int64\n",
       "channel                 int64\n",
       "srch_adults_cnt         int64\n",
       "srch_children_cnt       int64\n",
       "srch_rm_cnt             int64\n",
       "srch_destination_id     int64\n",
       "cnt                     int64\n",
       "hotel_market            int64\n",
       "hotel_cluster           int64\n",
       "days_to_checkin         int64\n",
       "stay_length             int64\n",
       "month_of_booking        int64\n",
       "month_of_staying        int64\n",
       "dtype: object"
      ]
     },
     "execution_count": 9,
     "metadata": {},
     "output_type": "execute_result"
    }
   ],
   "source": [
    "data.dtypes"
   ]
  },
  {
   "cell_type": "code",
   "execution_count": 10,
   "id": "4b91dbc7",
   "metadata": {},
   "outputs": [
    {
     "data": {
      "text/plain": [
       "id                       int64\n",
       "date_time               object\n",
       "user_location_city       int64\n",
       "user_id                  int64\n",
       "is_mobile                int64\n",
       "is_package               int64\n",
       "channel                  int64\n",
       "srch_adults_cnt          int64\n",
       "srch_children_cnt        int64\n",
       "srch_rm_cnt              int64\n",
       "srch_destination_id      int64\n",
       "hotel_market             int64\n",
       "days_to_checkin        float64\n",
       "stay_length            float64\n",
       "month_of_booking         int64\n",
       "month_of_staying       float64\n",
       "dtype: object"
      ]
     },
     "execution_count": 10,
     "metadata": {},
     "output_type": "execute_result"
    }
   ],
   "source": [
    "kaggle.dtypes"
   ]
  },
  {
   "cell_type": "code",
   "execution_count": 11,
   "id": "9500cbd6",
   "metadata": {},
   "outputs": [],
   "source": [
    "# making sure the data and kaggle set have the same dtypes\n",
    "kaggle['days_to_checkin'] = kaggle['days_to_checkin'].astype('int64')\n",
    "kaggle['stay_length'] = kaggle['stay_length'].astype('int64')\n",
    "kaggle['month_of_staying'] = kaggle['month_of_staying'].astype('int64')"
   ]
  },
  {
   "cell_type": "code",
   "execution_count": 12,
   "id": "fce766bf",
   "metadata": {},
   "outputs": [
    {
     "data": {
      "text/plain": [
       "id                      int64\n",
       "date_time              object\n",
       "user_location_city      int64\n",
       "user_id                 int64\n",
       "is_mobile               int64\n",
       "is_package              int64\n",
       "channel                 int64\n",
       "srch_adults_cnt         int64\n",
       "srch_children_cnt       int64\n",
       "srch_rm_cnt             int64\n",
       "srch_destination_id     int64\n",
       "hotel_market            int64\n",
       "days_to_checkin         int64\n",
       "stay_length             int64\n",
       "month_of_booking        int64\n",
       "month_of_staying        int64\n",
       "dtype: object"
      ]
     },
     "execution_count": 12,
     "metadata": {},
     "output_type": "execute_result"
    }
   ],
   "source": [
    "kaggle.dtypes"
   ]
  },
  {
   "cell_type": "markdown",
   "id": "18eecc8c",
   "metadata": {},
   "source": [
    "## 6. Modeling"
   ]
  },
  {
   "cell_type": "markdown",
   "id": "bf74f71a",
   "metadata": {},
   "source": [
    "As mentioned in the EDA section, since our features are all nominal features, there is no linearity between them. As such, the machine learning models that we can deploy is limited. Logistic Regression and K-Nearest Neighbors might not work well as they needed to be able to transform within the features some intra linear relationship like distance between points etc. As such we try are going to try models that do not make this assumption like Decision Tree, Random Forest and Naive Bayes."
   ]
  },
  {
   "cell_type": "markdown",
   "id": "48d1b0f4",
   "metadata": {},
   "source": [
    "### a. Preprocessing Functions"
   ]
  },
  {
   "cell_type": "code",
   "execution_count": 13,
   "id": "df322bfb",
   "metadata": {},
   "outputs": [],
   "source": [
    "# initial preprocessing\n",
    "\n",
    "def preprocessing(df):\n",
    "    \n",
    "    #change to only year\n",
    "    df['date_time'] = pd.to_datetime(df['date_time'], format = '%Y-%m-%d').dt.year \n",
    "    \n",
    "    # if number of adult is 0, normally it means 1:\n",
    "    df['srch_adults_cnt'] = df['srch_adults_cnt'].map(lambda x: 1 if x == 0 else x)\n",
    "    \n",
    "    # if number of room is 0, normally it means 1:\n",
    "    df['srch_rm_cnt'] = df['srch_rm_cnt'].map(lambda x: 1 if x == 0 else x)\n",
    "\n",
    "    #categorise to 1 for short stay (1 day), 2 for normal stay (2 days to a week) and 3 for long stay (more than a week)\n",
    "    df['stay_length'] = df['stay_length'].map(lambda x: 1 if x<=1 else(2 if x in range(2, 8) else 3))\n",
    "    \n",
    "    #categorise to 1 for urgent booking (1 day), 2 for normal booking (2 days to a month in advance) and 3 for advance booking (more than a month prior)\n",
    "    df['days_to_checkin']= df['days_to_checkin'].map(lambda x: 1 if x<=1 else(2 if x in range(2, 30) else 3))\n",
    "    \n",
    "    return df\n",
    "\n",
    "data = preprocessing(data)\n",
    "kaggle = preprocessing(kaggle)"
   ]
  },
  {
   "cell_type": "code",
   "execution_count": 14,
   "id": "873355df",
   "metadata": {},
   "outputs": [],
   "source": [
    "class CategoricalEncoder(BaseEstimator, TransformerMixin):\n",
    "    \n",
    "    # Encoder to solve issue where train set might not have categories that exist in test set\n",
    "    # Seek to group these 'missing' categories under category 0\n",
    "    \n",
    "    def __init__(self):\n",
    "        self.freq = {}\n",
    "        \n",
    "    def fit(self, X, y = None):\n",
    "        \n",
    "        for column in X.columns:\n",
    "        \n",
    "            #get frequency of each category in feature\n",
    "            self.freq[column] = X[column].value_counts(normalize = True)\n",
    "            \n",
    "        return self\n",
    "            \n",
    "    def transform(self, X, y = None):\n",
    "        X_ = X.copy(deep = True)\n",
    "        \n",
    "        for column in X.columns:\n",
    "\n",
    "            mapping = X_[column].map(self.freq[column])\n",
    "            \n",
    "            #Map to category 'others' if category in testset do not appear in trainset\n",
    "#             X_[column] = X_[column].map(lambda x: x if self.freq[column].get(x, False) else '0')\n",
    "            X_[column] = X_[column].map(lambda x: x if self.freq[column].get(x, False) else 'others')\n",
    "            \n",
    "            #Map to category 'others' if category belongs to 10% of the smallest occurance\n",
    "            #             X_[column] = X_[column].mask(mapping <= self.freq[column].quantile(q=0.1), '0')\n",
    "            X_[column] = X_[column].mask(mapping <= self.freq[column].quantile(q=0.1), 'others')\n",
    "        \n",
    "        X_ = X_.astype(str)\n",
    "\n",
    "        return X_"
   ]
  },
  {
   "cell_type": "markdown",
   "id": "2a63711c",
   "metadata": {},
   "source": [
    "### b. Base Case"
   ]
  },
  {
   "cell_type": "code",
   "execution_count": 15,
   "id": "b8f3b50e",
   "metadata": {},
   "outputs": [],
   "source": [
    "X = data.drop(['date_time','cnt','hotel_cluster'], axis = 1)\n",
    "y = data['hotel_cluster']\n",
    "X_train, X_hold, y_train, y_hold = train_test_split(X,\n",
    "                                                    y,\n",
    "                                                    test_size = 0.25,\n",
    "                                                    random_state = 42,\n",
    "                                                    stratify=y                                                    \n",
    "                                                   )"
   ]
  },
  {
   "cell_type": "code",
   "execution_count": 16,
   "id": "99a89891",
   "metadata": {},
   "outputs": [
    {
     "data": {
      "text/plain": [
       "91    0.040315\n",
       "48    0.028452\n",
       "42    0.024369\n",
       "59    0.022198\n",
       "28    0.021322\n",
       "        ...   \n",
       "92    0.002144\n",
       "87    0.002108\n",
       "53    0.001708\n",
       "27    0.000894\n",
       "74    0.000821\n",
       "Name: hotel_cluster, Length: 100, dtype: float64"
      ]
     },
     "execution_count": 16,
     "metadata": {},
     "output_type": "execute_result"
    }
   ],
   "source": [
    "y_hold.value_counts(normalize = True)"
   ]
  },
  {
   "cell_type": "code",
   "execution_count": 17,
   "id": "43927560",
   "metadata": {},
   "outputs": [
    {
     "data": {
      "text/plain": [
       "[91, 48, 42, 59, 28]"
      ]
     },
     "execution_count": 17,
     "metadata": {},
     "output_type": "execute_result"
    }
   ],
   "source": [
    "pred = y_hold.value_counts()[0:5].index\n",
    "pred = list(pred)\n",
    "pred"
   ]
  },
  {
   "cell_type": "code",
   "execution_count": 18,
   "id": "6fb4b19c",
   "metadata": {},
   "outputs": [
    {
     "name": "stdout",
     "output_type": "stream",
     "text": [
      "Trainset Map@5 score: 0.0724775114836474\n"
     ]
    }
   ],
   "source": [
    "predictions = [pred for _ in range(len(y_train))]\n",
    "target = [[x] for x in y_train.values]\n",
    "print(f'Trainset Map@5 score: {metrics.mapk(target, predictions, k=5)}')"
   ]
  },
  {
   "cell_type": "code",
   "execution_count": 19,
   "id": "5c0123bd",
   "metadata": {},
   "outputs": [
    {
     "name": "stdout",
     "output_type": "stream",
     "text": [
      "Testset Map@5 score: 0.07247740746369064\n"
     ]
    }
   ],
   "source": [
    "predictions = [pred for _ in range(len(y_hold))]\n",
    "target = [[x] for x in y_hold.values]\n",
    "print(f'Testset Map@5 score: {metrics.mapk(target, predictions, k=5)}')"
   ]
  },
  {
   "cell_type": "markdown",
   "id": "cd86e634",
   "metadata": {},
   "source": [
    "Here we establish the baseline score of 0.0725 whereby make the predicting as the top 5 most popular hotel clusters."
   ]
  },
  {
   "cell_type": "markdown",
   "id": "b965ca14",
   "metadata": {},
   "source": [
    "#### Predict for Kaggle (Only Run if Wanted to save file for Kaggle Submission)"
   ]
  },
  {
   "cell_type": "code",
   "execution_count": 20,
   "id": "65ab75fa",
   "metadata": {},
   "outputs": [],
   "source": [
    "# kaggle_pred = [pred for _ in range(len(kaggle))]\n",
    "# submit = convert_mapkformat_to_kaggleformat(kaggle_pred, kaggle)\n",
    "# submit.to_csv('../datasets/submission_baseline.csv', index = False)"
   ]
  },
  {
   "cell_type": "markdown",
   "id": "56c0f9cc",
   "metadata": {},
   "source": [
    "The Kaggle Score for this baseline model is also 0.07"
   ]
  },
  {
   "cell_type": "markdown",
   "id": "1823d329",
   "metadata": {},
   "source": [
    "### c. Categorical Naive Bayes"
   ]
  },
  {
   "cell_type": "markdown",
   "id": "04db53c8",
   "metadata": {},
   "source": [
    "#### Smaller Dataset (10 categories)"
   ]
  },
  {
   "cell_type": "code",
   "execution_count": 21,
   "id": "e2c00d79",
   "metadata": {},
   "outputs": [],
   "source": [
    "#subset if needed\n",
    "\n",
    "most_popular_hotel_clusters = list(data['hotel_cluster'].value_counts()[0:10].index)\n",
    "data_sub = data[data['hotel_cluster'].map(lambda x: x in most_popular_hotel_clusters)]\n",
    "data_sub = data_sub[:100_000]\n",
    "\n",
    "X = data_sub.drop(['date_time','cnt','hotel_cluster'], axis = 1)\n",
    "y = data_sub['hotel_cluster']\n",
    "X_train, X_hold, y_train, y_hold = train_test_split(X,\n",
    "                                                    y,\n",
    "                                                    test_size = 0.25,\n",
    "                                                    random_state = 42,\n",
    "                                                    stratify=y                                                \n",
    "                                                   )"
   ]
  },
  {
   "cell_type": "code",
   "execution_count": 22,
   "id": "cf98d6c8",
   "metadata": {},
   "outputs": [
    {
     "data": {
      "text/plain": [
       "100000"
      ]
     },
     "execution_count": 22,
     "metadata": {},
     "output_type": "execute_result"
    }
   ],
   "source": [
    "len(X)"
   ]
  },
  {
   "cell_type": "code",
   "execution_count": 23,
   "id": "cc07ff19",
   "metadata": {},
   "outputs": [
    {
     "data": {
      "text/plain": [
       "91    17688\n",
       "48    12721\n",
       "42    10676\n",
       "59     9660\n",
       "28     9282\n",
       "16     8225\n",
       "18     8068\n",
       "50     7947\n",
       "95     7943\n",
       "82     7790\n",
       "Name: hotel_cluster, dtype: int64"
      ]
     },
     "execution_count": 23,
     "metadata": {},
     "output_type": "execute_result"
    }
   ],
   "source": [
    "y.value_counts()"
   ]
  },
  {
   "cell_type": "code",
   "execution_count": 24,
   "id": "834d2053",
   "metadata": {},
   "outputs": [],
   "source": [
    "from sklearn.naive_bayes import CategoricalNB\n",
    "from sklearn.preprocessing import OrdinalEncoder\n",
    "from sklearn.pipeline import Pipeline, make_pipeline\n",
    "from imblearn.pipeline import make_pipeline as imb_make_pipeline\n",
    "from imblearn.over_sampling import SMOTEN\n",
    "\n",
    "pipe = make_pipeline(CategoricalEncoder(),   \n",
    "                     OrdinalEncoder(),                     \n",
    "                     CategoricalNB())\n",
    "\n",
    "params = {'categoricalnb__alpha': [1, 1.2]}\n",
    "\n",
    "gs = GridSearchCV(pipe,\n",
    "                  param_grid= params,\n",
    "                  cv = 5,\n",
    "                  scoring = 'f1_weighted',\n",
    "                  n_jobs = -1,\n",
    "                  error_score='raise',\n",
    "                 )"
   ]
  },
  {
   "cell_type": "code",
   "execution_count": 25,
   "id": "8538f4a1",
   "metadata": {},
   "outputs": [
    {
     "name": "stdout",
     "output_type": "stream",
     "text": [
      "Best Grid Search Score: 0.4077309964998639\n",
      "Best Params: {'categoricalnb__alpha': 1}\n"
     ]
    }
   ],
   "source": [
    "# model have been ran and saved.\n",
    "\n",
    "# gs.fit(X_train,y_train)\n",
    "# print(f'Best Grid Search Score: {gs.best_score_}')\n",
    "# print(f'Best Params: {gs.best_params_}')\n",
    "# model = gs.best_estimator_\n",
    "\n",
    "# pickle.dump(model, open('../models/CategoricalNB_10_classes_NoSMOTE.sav', 'wb'))"
   ]
  },
  {
   "attachments": {
    "image.png": {
     "image/png": "[encoded data removed]"
    }
   },
   "cell_type": "markdown",
   "id": "7b692ea9",
   "metadata": {},
   "source": [
    "![image.png](attachment:image.png)"
   ]
  },
  {
   "cell_type": "code",
   "execution_count": 26,
   "id": "abac06c3",
   "metadata": {},
   "outputs": [
    {
     "name": "stdout",
     "output_type": "stream",
     "text": [
      "Train Score: 0.5878133333333333\n",
      "Holdout Score: 0.42436\n",
      "Train F1 score: 0.5824220638651971\n",
      "Holdout F1 score: 0.41179066113123064\n"
     ]
    }
   ],
   "source": [
    "model = pickle.load(open('../models/CategoricalNB_10_classes_NoSMOTE.sav', 'rb'))\n",
    "\n",
    "print(f'Train Score: {model.score(X_train, y_train)}')\n",
    "print(f'Holdout Score: {model.score(X_hold,y_hold)}')\n",
    "print(f\"Train F1 score: {f1_score(y_train, model.predict(X_train), average = 'weighted')}\")\n",
    "print(f\"Holdout F1 score: {f1_score(y_hold, model.predict(X_hold), average = 'weighted')}\")"
   ]
  },
  {
   "cell_type": "code",
   "execution_count": 27,
   "id": "b7923117",
   "metadata": {},
   "outputs": [],
   "source": [
    "def mapk_score(model, X, y):\n",
    "    predictions = model.predict_proba(X)\n",
    "    predictions = pd.DataFrame(predictions, columns = model.classes_)\n",
    "    predictions = [predictions.loc[x].sort_values(ascending = False)[0:5].index.values.tolist() for x in range(len(y))]\n",
    "    target = [[x] for x in y.values]\n",
    "    return metrics.mapk(target, predictions, k=5)"
   ]
  },
  {
   "cell_type": "code",
   "execution_count": 28,
   "id": "2827f780",
   "metadata": {},
   "outputs": [
    {
     "name": "stdout",
     "output_type": "stream",
     "text": [
      "Trainset MAP@5 score: 0.7354015555555555\n",
      "Testset MAP@5 score: 0.603636\n"
     ]
    }
   ],
   "source": [
    "print(f'Trainset MAP@5 score: {mapk_score(model, X_train, y_train)}')\n",
    "print(f'Testset MAP@5 score: {mapk_score(model, X_hold, y_hold)}')"
   ]
  },
  {
   "cell_type": "markdown",
   "id": "96ad9d75",
   "metadata": {},
   "source": [
    "#### Smaller Dataset (10 categories) (with SMOTE)"
   ]
  },
  {
   "cell_type": "code",
   "execution_count": 29,
   "id": "a2774c14",
   "metadata": {},
   "outputs": [],
   "source": [
    "#subset if needed\n",
    "\n",
    "most_popular_hotel_clusters = list(data['hotel_cluster'].value_counts()[0:10].index)\n",
    "data_sub = data[data['hotel_cluster'].map(lambda x: x in most_popular_hotel_clusters)]\n",
    "data_sub = data_sub[:100000]\n",
    "\n",
    "X = data_sub.drop(['date_time','cnt','hotel_cluster'], axis = 1)\n",
    "y = data_sub['hotel_cluster']\n",
    "X_train, X_hold, y_train, y_hold = train_test_split(X,\n",
    "                                                    y,\n",
    "                                                    test_size = 0.25,\n",
    "                                                    random_state = 42,\n",
    "                                                    stratify=y                                                \n",
    "                                                   )"
   ]
  },
  {
   "cell_type": "code",
   "execution_count": 30,
   "id": "7057cc32",
   "metadata": {},
   "outputs": [
    {
     "data": {
      "text/plain": [
       "100000"
      ]
     },
     "execution_count": 30,
     "metadata": {},
     "output_type": "execute_result"
    }
   ],
   "source": [
    "len(X)"
   ]
  },
  {
   "cell_type": "code",
   "execution_count": 31,
   "id": "1b1e4b04",
   "metadata": {},
   "outputs": [
    {
     "data": {
      "text/plain": [
       "91    17688\n",
       "48    12721\n",
       "42    10676\n",
       "59     9660\n",
       "28     9282\n",
       "16     8225\n",
       "18     8068\n",
       "50     7947\n",
       "95     7943\n",
       "82     7790\n",
       "Name: hotel_cluster, dtype: int64"
      ]
     },
     "execution_count": 31,
     "metadata": {},
     "output_type": "execute_result"
    }
   ],
   "source": [
    "y.value_counts()"
   ]
  },
  {
   "cell_type": "code",
   "execution_count": 32,
   "id": "d05b7c36",
   "metadata": {},
   "outputs": [],
   "source": [
    "from sklearn.naive_bayes import CategoricalNB\n",
    "from sklearn.preprocessing import OrdinalEncoder, StandardScaler\n",
    "from sklearn.pipeline import Pipeline, make_pipeline\n",
    "from imblearn.pipeline import make_pipeline as imb_make_pipeline\n",
    "from imblearn.over_sampling import SMOTEN\n",
    "\n",
    "pipe = imb_make_pipeline(CategoricalEncoder(),                     \n",
    "                         OrdinalEncoder(),\n",
    "                         SMOTEN(),\n",
    "                         CategoricalNB())\n",
    "\n",
    "params = {'categoricalnb__alpha': [1, 1.2]}\n",
    "\n",
    "gs = GridSearchCV(pipe,\n",
    "                  param_grid= params,\n",
    "                  cv = 5,\n",
    "                  scoring = 'f1_weighted',\n",
    "                  n_jobs = -1,\n",
    "                  error_score='raise',\n",
    "                 )"
   ]
  },
  {
   "cell_type": "code",
   "execution_count": 33,
   "id": "d3a3c381",
   "metadata": {},
   "outputs": [
    {
     "name": "stdout",
     "output_type": "stream",
     "text": [
      "Best Grid Search Score: 0.3922206163821492\n",
      "Best Params: {'categoricalnb__alpha': 1}\n"
     ]
    }
   ],
   "source": [
    "# model have been ran and saved.\n",
    "\n",
    "# gs.fit(X_train,y_train)\n",
    "# print(f'Best Grid Search Score: {gs.best_score_}')\n",
    "# print(f'Best Params: {gs.best_params_}')\n",
    "# model = gs.best_estimator_\n",
    "\n",
    "# pickle.dump(model, open('../models/CategoricalNB_10_classes_SMOTE.sav', 'wb'))"
   ]
  },
  {
   "attachments": {
    "image.png": {
     "image/png": "[encoded data removed]"
    }
   },
   "cell_type": "markdown",
   "id": "20433620",
   "metadata": {},
   "source": [
    "![image.png](attachment:image.png)"
   ]
  },
  {
   "cell_type": "code",
   "execution_count": 34,
   "id": "a9a9ea5c",
   "metadata": {},
   "outputs": [
    {
     "name": "stdout",
     "output_type": "stream",
     "text": [
      "Train Accuracy: 0.56932\n",
      "Holdout Accuracy: 0.41132\n",
      "Train F1 score: 0.5657046542702858\n",
      "Holdout F1 score: 0.4028570032476372\n"
     ]
    }
   ],
   "source": [
    "model = pickle.load(open('../models/CategoricalNB_10_classes_SMOTE.sav', 'rb'))\n",
    "\n",
    "print(f'Train Accuracy: {model.score(X_train, y_train)}')\n",
    "print(f'Holdout Accuracy: {model.score(X_hold,y_hold)}')\n",
    "print(f\"Train F1 score: {f1_score(y_train, model.predict(X_train), average = 'weighted')}\")\n",
    "print(f\"Holdout F1 score: {f1_score(y_hold, model.predict(X_hold), average = 'weighted')}\")"
   ]
  },
  {
   "cell_type": "code",
   "execution_count": 36,
   "id": "bb231b56",
   "metadata": {},
   "outputs": [
    {
     "name": "stdout",
     "output_type": "stream",
     "text": [
      "Trainset MAP@5 score: 0.7219195555555555\n",
      "Testset MAP@5 score: 0.5912913333333333\n"
     ]
    }
   ],
   "source": [
    "print(f'Trainset MAP@5 score: {mapk_score(model, X_train, y_train)}')\n",
    "print(f'Testset MAP@5 score: {mapk_score(model, X_hold, y_hold)}')"
   ]
  },
  {
   "cell_type": "markdown",
   "id": "3738f80f",
   "metadata": {},
   "source": [
    "We are using SMOTEN here instead of SMOTE as it is designed for categorical features. We didn't use StandardScaling before SMOTE as our data although numeric, represent categories.  \n",
    "\n",
    "Since using SMOTEN did not return to us significantly better results. We shall not use SMOTEN as it is computationally expensive. Also it is not feasible to SMOTEN all 100 classes as we will run of memory very fast."
   ]
  },
  {
   "cell_type": "markdown",
   "id": "8638274b",
   "metadata": {},
   "source": [
    "#### Whole dataset"
   ]
  },
  {
   "cell_type": "code",
   "execution_count": 37,
   "id": "d08148b0",
   "metadata": {},
   "outputs": [],
   "source": [
    "data_sub = data[:]\n",
    "\n",
    "X = data_sub.drop(['date_time','cnt','hotel_cluster'], axis = 1)\n",
    "y = data_sub['hotel_cluster']\n",
    "X_train, X_hold, y_train, y_hold = train_test_split(X,\n",
    "                                                    y,\n",
    "                                                    test_size = 0.25,\n",
    "                                                    random_state = 42,\n",
    "                                                    stratify=y                                                \n",
    "                                                   )"
   ]
  },
  {
   "cell_type": "code",
   "execution_count": 38,
   "id": "b9d96564",
   "metadata": {},
   "outputs": [],
   "source": [
    "from sklearn.naive_bayes import CategoricalNB\n",
    "from sklearn.preprocessing import OrdinalEncoder\n",
    "from sklearn.pipeline import Pipeline, make_pipeline\n",
    "from imblearn.pipeline import make_pipeline as imb_make_pipeline\n",
    "from imblearn.over_sampling import SMOTEN\n",
    "\n",
    "pipe = make_pipeline(CategoricalEncoder(),                     \n",
    "                     OrdinalEncoder(),                     \n",
    "                     CategoricalNB())\n",
    "\n",
    "params = {'categoricalnb__alpha': [1]}\n",
    "\n",
    "gs = GridSearchCV(pipe,\n",
    "                  param_grid= params,\n",
    "                  cv = 5,\n",
    "                  scoring = 'f1_weighted',\n",
    "                  n_jobs = -1,\n",
    "                  error_score='raise',\n",
    "                 )"
   ]
  },
  {
   "cell_type": "code",
   "execution_count": 39,
   "id": "21107228",
   "metadata": {},
   "outputs": [
    {
     "name": "stdout",
     "output_type": "stream",
     "text": [
      "Best Grid Search Score: 0.19007261788554503\n",
      "Best Params: {'categoricalnb__alpha': 1}\n"
     ]
    }
   ],
   "source": [
    "# model have been ran and saved.\n",
    "\n",
    "# gs.fit(X_train,y_train)\n",
    "# print(f'Best Grid Search Score: {gs.best_score_}')\n",
    "# print(f'Best Params: {gs.best_params_}')\n",
    "# model = gs.best_estimator_\n",
    "# pickle.dump(model, open('../models/CategoricalNB_full_dataset_NoSMOTE.sav', 'wb'))"
   ]
  },
  {
   "attachments": {
    "image.png": {
     "image/png": "[encoded data removed]"
    }
   },
   "cell_type": "markdown",
   "id": "ada0042a",
   "metadata": {},
   "source": [
    "![image.png](attachment:image.png)"
   ]
  },
  {
   "cell_type": "code",
   "execution_count": 40,
   "id": "0fdf3d64",
   "metadata": {},
   "outputs": [
    {
     "name": "stdout",
     "output_type": "stream",
     "text": [
      "Train Score: 0.32923205713882\n",
      "Holdout Score: 0.21928245980265912\n",
      "Train F1 score: 0.3122700377621458\n",
      "Holdout F1 score: 0.19695961024049144\n"
     ]
    }
   ],
   "source": [
    "model = pickle.load(open('../models/CategoricalNB_full_dataset_NoSMOTE.sav', 'rb'))\n",
    "\n",
    "print(f'Train Score: {model.score(X_train, y_train)}')\n",
    "print(f'Holdout Score: {model.score(X_hold,y_hold)}')\n",
    "print(f\"Train F1 score: {f1_score(y_train, model.predict(X_train), average = 'weighted')}\")\n",
    "print(f\"Holdout F1 score: {f1_score(y_hold, model.predict(X_hold), average = 'weighted')}\")"
   ]
  },
  {
   "cell_type": "code",
   "execution_count": 42,
   "id": "2cdae566",
   "metadata": {},
   "outputs": [
    {
     "name": "stdout",
     "output_type": "stream",
     "text": [
      "Trainset MAP@5 score: 0.4626783940356281\n",
      "Testset MAP@5 score: 0.34403696120277877\n"
     ]
    }
   ],
   "source": [
    "print(f'Trainset MAP@5 score: {mapk_score(model, X_train, y_train)}')\n",
    "print(f'Testset MAP@5 score: {mapk_score(model, X_hold, y_hold)}')"
   ]
  },
  {
   "cell_type": "markdown",
   "id": "923caf93",
   "metadata": {},
   "source": [
    "#### Predict for Kaggle (Only Run if Wanted to save file for Kaggle Submission)"
   ]
  },
  {
   "cell_type": "code",
   "execution_count": 43,
   "id": "f376c280",
   "metadata": {},
   "outputs": [],
   "source": [
    "# kaggle_ce = kaggle.drop(['id','date_time'], axis = 1)\n",
    "# kaggle_pred = pd.DataFrame(model.predict_proba(kaggle_ce), columns = model.classes_)\n",
    "# submit = convert_pdformat_to_kaggleformat(kaggle_pred, kaggle)\n",
    "# submit.to_csv('../datasets/submission_Naive_Bayes.csv', index = False)"
   ]
  },
  {
   "cell_type": "markdown",
   "id": "8d1f48cd",
   "metadata": {},
   "source": [
    "#### Evaluation"
   ]
  },
  {
   "cell_type": "markdown",
   "id": "f6bda390",
   "metadata": {},
   "source": [
    "Here we are using the Categorical Naive Bayes model from sklearn. We are using this model instead of other Naive Bayes model as it is the most suitable for classification with discrete features that are categoircally distributed i.e. it makes no assumption about linearly or rank within the features. (MultinomialNB is more suitable for text but in MultinominalNB, the denominator will the total number of words in that particular class, while in CategoricalNB it is a total number of data points with a particular class. https://towardsdatascience.com/how-i-was-using-naive-bayes-incorrectly-till-now-part-1-4ed2a7e2212b).  \n",
    "\n",
    "Even though we are using ordinalencoding in the pipeline, we are not ranking the categories as CategoricalNB does not assume order in the categories. This is only a hack to rename all the categories as integars as our categories are in strings for easier input into CategoricalNB. This can be found under description of X in CategoricalNB documentation. (https://scikit-learn.org/stable/modules/generated/sklearn.naive_bayes.CategoricalNB.html)\n",
    "\n",
    "We faced the challenge because we are handling classification for 100 classes, we needed our features to have significance variances within them. However this brings about another problem, as our features are all nominal categorical, to have larger variance within the features, the features need to have many categories and we end up having a high cardinality problem. High cardinalty gave us an issue where our model breaks when there is a mismatch in the categories that exist between the trainset and testset (i.e. when a category is in the testset but not in the trainset). We seek to solve this by implementing a custom transformer which group all our categories which exist in less than 10% of the data into a group named 'others' and also mapping all the categories that were in the testset but not in the trainset to be under this category, 'others'. This solved our problem of high cardinality.\n",
    "\n",
    "With alpha (Laplace smoothing) set at 1, we achieve a train score of 0.329 and holdout score of 0.219 and a mapK score of 0.344.\n",
    "\n",
    "This model got a Kaggle score of 0.29406."
   ]
  },
  {
   "cell_type": "markdown",
   "id": "51fe8148",
   "metadata": {},
   "source": [
    "#### Possible Further Improvement: "
   ]
  },
  {
   "cell_type": "markdown",
   "id": "39cee82d",
   "metadata": {},
   "source": [
    "We can try balancing the different classes more by using a undersampling for some of the classes and undersampling for some of the classes within memory allowance.\n",
    "\n",
    "We can also explore using partial_fit in CategoricalNB to manage the memory usage. This will require the use of a custom pipeline."
   ]
  },
  {
   "cell_type": "markdown",
   "id": "169a4395",
   "metadata": {},
   "source": [
    "### d. Random Forrest Classifier Model"
   ]
  },
  {
   "cell_type": "markdown",
   "id": "2e8689bc",
   "metadata": {},
   "source": [
    "#### Smaller Dataset (10 categories)"
   ]
  },
  {
   "cell_type": "code",
   "execution_count": 44,
   "id": "89cd8846",
   "metadata": {},
   "outputs": [],
   "source": [
    "#subset if needed\n",
    "\n",
    "most_popular_hotel_clusters = list(data['hotel_cluster'].value_counts()[0:10].index)\n",
    "data_sub = data[data['hotel_cluster'].map(lambda x: x in most_popular_hotel_clusters)]\n",
    "data_sub = data_sub[:100000]\n",
    "\n",
    "X = data_sub.drop(['date_time','cnt','hotel_cluster'], axis = 1)\n",
    "y = data_sub['hotel_cluster']\n",
    "X_train, X_hold, y_train, y_hold = train_test_split(X,\n",
    "                                                    y,\n",
    "                                                    test_size = 0.25,\n",
    "                                                    random_state = 42,\n",
    "                                                    stratify=y                                                \n",
    "                                                   )"
   ]
  },
  {
   "cell_type": "code",
   "execution_count": 45,
   "id": "73cc374b",
   "metadata": {},
   "outputs": [],
   "source": [
    "from sklearn.ensemble import RandomForestClassifier\n",
    "from sklearn.pipeline import Pipeline, make_pipeline\n",
    "from sklearn.preprocessing import OneHotEncoder\n",
    "\n",
    "pipe = make_pipeline(CategoricalEncoder(),\n",
    "                     OneHotEncoder(),\n",
    "                     RandomForestClassifier(n_estimators= 100))\n",
    "\n",
    "params = {'randomforestclassifier__max_depth': [10, 15]}\n",
    "\n",
    "gs = GridSearchCV(pipe,\n",
    "                  param_grid= params,\n",
    "                  cv = 5,\n",
    "                  scoring = 'f1_weighted',\n",
    "                  n_jobs = -1,\n",
    "                  error_score='raise'\n",
    "                  )"
   ]
  },
  {
   "cell_type": "code",
   "execution_count": 46,
   "id": "1aff4ca2",
   "metadata": {
    "scrolled": true
   },
   "outputs": [
    {
     "name": "stdout",
     "output_type": "stream",
     "text": [
      "Best Grid Search Score: 0.09626284576560966\n",
      "Best Params: {'randomforestclassifier__max_depth': 15}\n"
     ]
    }
   ],
   "source": [
    "# model have been ran and saved.\n",
    "\n",
    "# gs.fit(X_train,y_train)\n",
    "# print(f'Best Grid Search Score: {gs.best_score_}')\n",
    "# print(f'Best Params: {gs.best_params_}')\n",
    "# model = gs.best_estimator_\n",
    "\n",
    "# pickle.dump(model, open('../models/RandomForest_10_classes_NoSMOTE.sav', 'wb'))"
   ]
  },
  {
   "attachments": {
    "image.png": {
     "image/png": "[encoded data removed]"
    }
   },
   "cell_type": "markdown",
   "id": "8449ca95",
   "metadata": {},
   "source": [
    "![image.png](attachment:image.png)"
   ]
  },
  {
   "cell_type": "code",
   "execution_count": 47,
   "id": "4cb1fa20",
   "metadata": {
    "scrolled": true
   },
   "outputs": [
    {
     "name": "stdout",
     "output_type": "stream",
     "text": [
      "Train Accuracy: 0.20170666666666667\n",
      "Holdout Accuracy: 0.19824\n",
      "Train F1 score: 0.09878405753312088\n",
      "Holdout F1 score: 0.09276463148389051\n"
     ]
    }
   ],
   "source": [
    "model = pickle.load(open('../models/RandomForest_10_classes_NoSMOTE.sav', 'rb'))\n",
    "\n",
    "print(f'Train Accuracy: {model.score(X_train, y_train)}')\n",
    "print(f'Holdout Accuracy: {model.score(X_hold,y_hold)}')\n",
    "print(f\"Train F1 score: {f1_score(y_train, model.predict(X_train), average = 'weighted')}\")\n",
    "print(f\"Holdout F1 score: {f1_score(y_hold, model.predict(X_hold), average = 'weighted')}\")"
   ]
  },
  {
   "cell_type": "code",
   "execution_count": 49,
   "id": "b3a33ee1",
   "metadata": {},
   "outputs": [
    {
     "name": "stdout",
     "output_type": "stream",
     "text": [
      "Trainset MAP@5 score: 0.39066533333333336\n",
      "Testset MAP@5 score: 0.3789246666666667\n"
     ]
    }
   ],
   "source": [
    "print(f'Trainset MAP@5 score: {mapk_score(model, X_train, y_train)}')\n",
    "print(f'Testset MAP@5 score: {mapk_score(model, X_hold, y_hold)}')"
   ]
  },
  {
   "cell_type": "markdown",
   "id": "200463b6",
   "metadata": {},
   "source": [
    "#### All classes with 200,000 data"
   ]
  },
  {
   "cell_type": "code",
   "execution_count": 50,
   "id": "1f317bcd",
   "metadata": {},
   "outputs": [],
   "source": [
    "#subset if needed\n",
    "\n",
    "most_popular_hotel_clusters = list(data['hotel_cluster'].value_counts()[:].index)\n",
    "data_sub = data[data['hotel_cluster'].map(lambda x: x in most_popular_hotel_clusters)]\n",
    "data_sub = data_sub[:200_000]\n",
    "\n",
    "X = data_sub.drop(['date_time','cnt','hotel_cluster'], axis = 1)\n",
    "y = data_sub['hotel_cluster']\n",
    "X_train, X_hold, y_train, y_hold = train_test_split(X,\n",
    "                                                    y,\n",
    "                                                    test_size = 0.25,\n",
    "                                                    random_state = 42,\n",
    "                                                    stratify=y                                                \n",
    "                                                   )"
   ]
  },
  {
   "cell_type": "code",
   "execution_count": 51,
   "id": "8759a443",
   "metadata": {},
   "outputs": [],
   "source": [
    "from sklearn.ensemble import RandomForestClassifier\n",
    "from sklearn.pipeline import Pipeline, make_pipeline\n",
    "from sklearn.preprocessing import OneHotEncoder\n",
    "\n",
    "pipe = make_pipeline(CategoricalEncoder(),\n",
    "                     OneHotEncoder(),\n",
    "                     RandomForestClassifier(n_estimators= 100))\n",
    "\n",
    "params = {'randomforestclassifier__max_depth': [10, 15]}\n",
    "\n",
    "gs = GridSearchCV(pipe,\n",
    "                  param_grid= params,\n",
    "                  cv = 5,\n",
    "                  scoring = 'f1_weighted',\n",
    "                  n_jobs = -1,\n",
    "                  error_score='raise'\n",
    "                  )"
   ]
  },
  {
   "cell_type": "code",
   "execution_count": 52,
   "id": "96856122",
   "metadata": {},
   "outputs": [
    {
     "name": "stdout",
     "output_type": "stream",
     "text": [
      "Best Grid Search Score: 0.037398635959869996\n",
      "Best Params: {'randomforestclassifier__max_depth': 15}\n"
     ]
    }
   ],
   "source": [
    "# model have been ran and saved.\n",
    "\n",
    "# gs.fit(X_train,y_train)\n",
    "# print(f'Best Grid Search Score: {gs.best_score_}')\n",
    "# print(f'Best Params: {gs.best_params_}')\n",
    "# model = gs.best_estimator_\n",
    "\n",
    "# pickle.dump(model, open('../models/RandomForest_all_class_200kRows_NoSMOTE.sav', 'wb'))"
   ]
  },
  {
   "attachments": {
    "image.png": {
     "image/png": "[encoded data removed]"
    }
   },
   "cell_type": "markdown",
   "id": "f7db7fac",
   "metadata": {},
   "source": [
    "![image.png](attachment:image.png)"
   ]
  },
  {
   "cell_type": "code",
   "execution_count": 53,
   "id": "6812ae76",
   "metadata": {},
   "outputs": [
    {
     "name": "stdout",
     "output_type": "stream",
     "text": [
      "Train Accuracy: 0.08028\n",
      "Holdout Accuracy: 0.06854\n",
      "Train F1 score: 0.05278422354316209\n",
      "Holdout F1 score: 0.03158347464341087\n"
     ]
    }
   ],
   "source": [
    "model = pickle.load(open('../models/RandomForest_all_class_200kRows_NoSMOTE.sav', 'rb'))\n",
    "\n",
    "print(f'Train Accuracy: {model.score(X_train, y_train)}')\n",
    "print(f'Holdout Accuracy: {model.score(X_hold,y_hold)}')\n",
    "print(f\"Train F1 score: {f1_score(y_train, model.predict(X_train), average = 'weighted')}\")\n",
    "print(f\"Holdout F1 score: {f1_score(y_hold, model.predict(X_hold), average = 'weighted')}\")"
   ]
  },
  {
   "cell_type": "code",
   "execution_count": 55,
   "id": "3bfbe44b",
   "metadata": {},
   "outputs": [
    {
     "name": "stdout",
     "output_type": "stream",
     "text": [
      "Trainset MAP@5 score: 0.16237422222222223\n",
      "Testset MAP@5 score: 0.1310623333333333\n"
     ]
    }
   ],
   "source": [
    "print(f'Trainset MAP@5 score: {mapk_score(model, X_train, y_train)}')\n",
    "print(f'Testset MAP@5 score: {mapk_score(model, X_hold, y_hold)}')"
   ]
  },
  {
   "cell_type": "markdown",
   "id": "05807798",
   "metadata": {},
   "source": [
    "#### Predict for Kaggle (Only Run if Wanted to save file for Kaggle Submission)"
   ]
  },
  {
   "cell_type": "code",
   "execution_count": 56,
   "id": "ccbe74ea",
   "metadata": {},
   "outputs": [],
   "source": [
    "# kaggle_ce = kaggle.drop(['id','date_time'], axis = 1)\n",
    "# kaggle_pred = pd.DataFrame(model.predict_proba(kaggle_ce), columns = model.classes_)\n",
    "# submit = convert_pdformat_to_kaggleformat(kaggle_pred, kaggle)\n",
    "# submit.to_csv('../datasets/submission_Random_Forest.csv', index = False)"
   ]
  },
  {
   "cell_type": "markdown",
   "id": "19a58c6a",
   "metadata": {},
   "source": [
    "#### Evaluation"
   ]
  },
  {
   "cell_type": "markdown",
   "id": "d1499033",
   "metadata": {},
   "source": [
    "This model take a long time to run even with a small dataset. For 10 categories and 100,000 data, the MAP@5 score is 0.372 on the testset.\n",
    "\n",
    "We tried running the full dataset and it didn't complete running in 12 hrs and we stop the model and we had to downsize our data to 200,000 with 100 classes. The trainset mapK score is 0.1623 and the testset mapK score is 0.1311 and the Kaggle score is 0.11743. \n",
    "\n",
    "At this stage, as on the smaller dataset it is not performing as well as CategoricalNB, we didn't pursue this model further. Given more resources, we can try again."
   ]
  },
  {
   "cell_type": "markdown",
   "id": "03818d13",
   "metadata": {},
   "source": [
    "Random Forest Classifier also didn't work too well as we had to do OneHotEncoding to the features to avoid RandomForestClassifier from treating them like continuous features. However due to the high cardinality of our features, OneHotEncoding transform the original 14 features that we have to over 25,000 features which bogged the model and made the model needed a certain degree of depth to be effective. Notice that the trainset and holdset scores are close, showing no sign of overfit even though we already had a tree depth of 15. We probably had to relax the tree depth to deeper for better results. However that come at a computational trade off which we showed that is very expensive as we didn't even managed to run the model with the full dataset."
   ]
  },
  {
   "cell_type": "markdown",
   "id": "8ac43224",
   "metadata": {},
   "source": [
    "### e. K Nearest Neighbor"
   ]
  },
  {
   "cell_type": "code",
   "execution_count": 57,
   "id": "33bc36d8",
   "metadata": {},
   "outputs": [],
   "source": [
    "#subset\n",
    "most_popular_hotel_clusters = list(data['hotel_cluster'].value_counts()[0:10].index)\n",
    "data_sub = data[data['hotel_cluster'].map(lambda x: x in most_popular_hotel_clusters)]\n",
    "data_sub = data_sub[:100_000]\n",
    "\n",
    "X = data_sub.drop(['date_time','cnt','hotel_cluster'], axis = 1)\n",
    "y = data_sub['hotel_cluster']\n",
    "X_train, X_hold, y_train, y_hold = train_test_split(X,\n",
    "                                                    y,\n",
    "                                                    test_size = 0.25,\n",
    "                                                    random_state = 42,\n",
    "                                                    stratify=y                                                \n",
    "                                                   )"
   ]
  },
  {
   "cell_type": "code",
   "execution_count": 58,
   "id": "48711bf2",
   "metadata": {},
   "outputs": [],
   "source": [
    "from sklearn.neighbors import KNeighborsClassifier\n",
    "from sklearn.pipeline import Pipeline\n",
    "from imblearn.over_sampling import SMOTEN\n",
    "from imblearn.pipeline import make_pipeline as imb_make_pipeline\n",
    "\n",
    "pipe = imb_make_pipeline(SMOTEN(),\n",
    "                         KNeighborsClassifier()\n",
    "                        )\n",
    "                 \n",
    "params = {'kneighborsclassifier__n_neighbors': [9],\n",
    "         }\n",
    "\n",
    "gs = GridSearchCV(pipe,\n",
    "                  param_grid= params,\n",
    "                  cv = 5,\n",
    "                  scoring = 'f1_weighted',\n",
    "                  n_jobs = -1\n",
    "                 )"
   ]
  },
  {
   "cell_type": "code",
   "execution_count": 59,
   "id": "55100b1a",
   "metadata": {},
   "outputs": [
    {
     "name": "stdout",
     "output_type": "stream",
     "text": [
      "Best Grid Search Score: 0.15554081331422745\n",
      "Best Params: {'kneighborsclassifier__n_neighbors': 9}\n"
     ]
    }
   ],
   "source": [
    "# model have been ran and saved.\n",
    "\n",
    "# gs.fit(X_train,y_train)\n",
    "# print(f'Best Grid Search Score: {gs.best_score_}')\n",
    "# print(f'Best Params: {gs.best_params_}')\n",
    "# model = gs.best_estimator_\n",
    "\n",
    "# pickle.dump(model, open('../models/KNN_10_classes_SMOTEN.sav', 'wb'))"
   ]
  },
  {
   "attachments": {
    "image.png": {
     "image/png": "[encoded data removed]"
    }
   },
   "cell_type": "markdown",
   "id": "d21bc855",
   "metadata": {},
   "source": [
    "![image.png](attachment:image.png)"
   ]
  },
  {
   "cell_type": "code",
   "execution_count": 60,
   "id": "9fa20e11",
   "metadata": {},
   "outputs": [
    {
     "name": "stdout",
     "output_type": "stream",
     "text": [
      "Train Accuracy: 0.3310133333333333\n",
      "Holdout Accuracy: 0.1602\n",
      "Train F1 score: 0.3321194050917177\n",
      "Holdout F1 score: 0.16196224785119456\n"
     ]
    }
   ],
   "source": [
    "model = pickle.load(open('../models/KNN_10_classes_SMOTEN.sav', 'rb'))\n",
    "\n",
    "print(f'Train Accuracy: {model.score(X_train, y_train)}')\n",
    "print(f'Holdout Accuracy: {model.score(X_hold,y_hold)}')\n",
    "print(f\"Train F1 score: {f1_score(y_train, model.predict(X_train), average = 'weighted')}\")\n",
    "print(f\"Holdout F1 score: {f1_score(y_hold, model.predict(X_hold), average = 'weighted')}\")"
   ]
  },
  {
   "cell_type": "code",
   "execution_count": 62,
   "id": "0ac4c621",
   "metadata": {},
   "outputs": [
    {
     "name": "stdout",
     "output_type": "stream",
     "text": [
      "Trainset MAP@5 score: 0.5553855555555556\n",
      "Testset MAP@5 score: 0.30893600000000004\n"
     ]
    }
   ],
   "source": [
    "print(f'Trainset MAP@5 score: {mapk_score(model, X_train, y_train)}')\n",
    "print(f'Testset MAP@5 score: {mapk_score(model, X_hold, y_hold)}')"
   ]
  },
  {
   "cell_type": "markdown",
   "id": "669c4d23",
   "metadata": {},
   "source": [
    "#### Evaluation"
   ]
  },
  {
   "cell_type": "markdown",
   "id": "faac6913",
   "metadata": {},
   "source": [
    "KNearestNeighbour only achieve a mapK score of 0.3213 on the testset for a dataset with 10 classes and 100,000 datas, making it the lowest score of all. As per our expectation, as KNearestNeighbour utilise distance in its algorithm, as our features are all non linear nominal categorical features. This model is not working well. As such, we will not pursue this model more."
   ]
  },
  {
   "cell_type": "markdown",
   "id": "e7aec20a",
   "metadata": {},
   "source": [
    "## 7. TensorFlow Recommendation System"
   ]
  },
  {
   "cell_type": "markdown",
   "id": "4b7e3c44",
   "metadata": {},
   "source": [
    "#### Please refer to 'Part 3 - Appendix - TensorFlow Recommendation System.ipynb'"
   ]
  },
  {
   "cell_type": "markdown",
   "id": "6ad29336",
   "metadata": {},
   "source": [
    "Here we decided to build a recommendation system and use the recommendation system to make the predictions. The title of this kaggle competition is Expedia recommendation system, and although the problem statement can be approached by using Supervised ML models. We wanted to try out recommendation system and we are also interested in deep learning models. When we know that tensorflow came out with a new library, tensorflow recommendation system (TFRS), in end 2020 , we decided to try out this new library.  \n",
    "\n",
    "The code for this model is in 'Part 3 - Appendix - TensorFlow Recommendation System.ipynb'"
   ]
  },
  {
   "attachments": {
    "image.png": {
     "image/png": "[encoded data removed]"
    }
   },
   "cell_type": "markdown",
   "id": "e5585e1d",
   "metadata": {},
   "source": [
    "![image.png](attachment:image.png)"
   ]
  },
  {
   "cell_type": "markdown",
   "id": "d533e0ac",
   "metadata": {},
   "source": [
    "#### Evaluation"
   ]
  },
  {
   "cell_type": "markdown",
   "id": "8adc0231",
   "metadata": {},
   "source": [
    "Our advanced TFRS model achieve a mapK score of 0.5695 on a subset of 10 classes and 100,000 datas. Making it the 2nd best performing model that we have. The training time is one of the fastest. Also there is more room for tuning and improvement on this model."
   ]
  },
  {
   "cell_type": "markdown",
   "id": "447c6829",
   "metadata": {},
   "source": [
    "We proceeded to fit our model with the full dataset and the model achieved a trainset score of 0.8071 and a testset score of 0.3050. This obviously show overfitting which we can continue to finetune more. We like this model given the fact that despite the fact that we haven't improve on it much but it already achieved a score which put it in 2nd place of all our models and the score is not far away from our top model.\n",
    "\n",
    "We also like that the model can handle new categories with ease which is a challenge for all our other ML models. Furthermore we can train this model by batches which will sort the issue of out of memory when training with huge datasets. This also means that we do not have to retrain the model when we have need data and we can continuiously improving the model when we have new data. In addition, the model is one of the models trained the fastest.\n",
    "\n",
    "This model also have the flexibility to be reconfigured for different requirement. For example as mentioned earlier, our model is configured to recommend hotel cluster based on the user past preferences and searched destination. We can also reconfigure the model to recommend destinations and hotel cluster based on user past preferences by putting destination under the Candidate Model and using the destination dataset to find similarities between destinations."
   ]
  },
  {
   "cell_type": "markdown",
   "id": "5f8e7877",
   "metadata": {},
   "source": [
    "This model obtain a Kaggle Score of 0.2194."
   ]
  },
  {
   "cell_type": "markdown",
   "id": "e0bb2b72",
   "metadata": {},
   "source": [
    "#### Possible Further improvement"
   ]
  },
  {
   "cell_type": "markdown",
   "id": "8309873d",
   "metadata": {},
   "source": [
    "1. Finetune the model to address overfitting using early stopping or regularization\n",
    "2. Build a multitask TFRS model which include a ranking task."
   ]
  },
  {
   "cell_type": "markdown",
   "id": "d6fa74d1",
   "metadata": {},
   "source": [
    "## 8. Conclusion and Recommendations"
   ]
  },
  {
   "cell_type": "markdown",
   "id": "45465890",
   "metadata": {},
   "source": [
    "|                     | Small Dataset (10 classes, 100,000 data) |                               |                            |                          |                      |               |\n",
    "|---------------------|------------------------------------------|-------------------------------|----------------------------|--------------------------|----------------------|---------------|\n",
    "|                     | Baseline                                 | CategoricalNB (without SMOTE) | CategoricalNB (with SMOTE) | Random Forest Classifier | K Nearest Neighbours | Advanced TFRS |\n",
    "| Trainset MAPK Score | 0.0725                                   | 0.7354                        | 0.7224                     | 0.3907                   | 0.5554               | 0.9676        |\n",
    "| Holdset MAPK Score  | 0.0725                                   | 0.6036                        | 0.5913                     | 0.3789                   | 0.3213               | 0.5695        |"
   ]
  },
  {
   "cell_type": "markdown",
   "id": "a5ab76d1",
   "metadata": {},
   "source": [
    "We tested various different models using a small dataset which we filter out 10 classes and 100,000 data points from the main dataset. Above are the results. As expected, since our features are nominal features with no linearity within the features, K-Nearest Neighbor is not working well. We also tried Logistic Regression briefly which we didn't put in this notebook and that didn't work well either. Random Forest Classifier also didn't work too well as we had to do OneHotEncoding to the features to avoid RandomForestClassifier from treating them like continuous features. However due to the high cardinality of our features, OneHotEncoding transform the original 14 features that we have to over 25,000 features which bogged the model and made the model needed a certain degree of depth to be effective. Notice that the trainset and holdset scores are close, showing no sign of overfit even though we already had a tree depth of 15. We probably had to relax the tree depth to deeper for better results. However that come at a computational trade off which we showed that is very expensive as we didn't even managed to run the model with the full dataset.\n",
    "\n",
    "This left us with our 2 best model using the CategoricalNB and TensorFlow Recommendation System. We tried using CategoricalNB with SMOTEN which didn't return to us significantly better results. When we tried to run SMOTEN on 100 classes, our system ran out of memory. As such we decided to test out the full dataset using our CategoricalNB (without SMOTE) model and our Advanced TensorFlow Recommendation System Model. Their results are as below."
   ]
  },
  {
   "cell_type": "markdown",
   "id": "2067d5e7",
   "metadata": {},
   "source": [
    "|                     | Baseline | CategoricalNB (without SMOTE) | Advanced TFRS |\n",
    "|---------------------|----------|-------------------------------|---------------|\n",
    "| Trainset MAPK Score | 0.0725   | 0.4630                        | 0.8071        |\n",
    "| Holdset MAPK Score  | 0.0725   | 0.3440                        | 0.3050        |\n",
    "| Kaggle Score        | 0.0700   | 0.2941                        | 0.2194        |"
   ]
  },
  {
   "cell_type": "markdown",
   "id": "8da6d6e5",
   "metadata": {},
   "source": [
    "Our best model is still CategoricalNB with a kaggle score of 0.2941 while our TFRS model achieved a score of 0.2194. Please note that work remains to be done for both our models especially our TFRS model which is still overfitted."
   ]
  },
  {
   "cell_type": "markdown",
   "id": "ecc04105",
   "metadata": {},
   "source": [
    "Possible Further Improvement for the CategoricalNB Model:\n",
    "\n",
    "- We can try balancing the different classes more by using an undersampling for some of the classes and undersampling for some of the classes within memory allowance.\n",
    "\n",
    "- We can also explore using partial_fit in CategoricalNB to manage the memory usage. This will require the use of a custom pipeline."
   ]
  },
  {
   "cell_type": "markdown",
   "id": "71d165c7",
   "metadata": {},
   "source": [
    "Possible Further Improvement for the TensorFlow Recommendation System Model:\n",
    "    \n",
    "- Finetune the model to address overfitting using early stopping or regularization\n",
    "\n",
    "- Build a multitask TFRS model which include a ranking task."
   ]
  },
  {
   "cell_type": "markdown",
   "id": "a5671284",
   "metadata": {},
   "source": [
    "That saying, we like the potential of our TFRS model. Despite us not yet having prevented it from overfitting, it already achieve a score close to our best model, the CategoricalNB model. Also there is ways that we can improve the model compared to the CategoricalNB Model.\n",
    "\n",
    "We also like that the model can handle new categories with ease which is a challenge for all our other ML models including the CategoricalNB where we had to write a preprocessing step to categorical all new categories as 'others. Furthermore we can train this model by batches which will sort the issue of out of memory when training with huge datasets. This also means that we do not have to retrain the model when we have need data and we can keep improving the model when we have new data. In addition, the model is one of the models trained the fastest.\n",
    "\n",
    "This model also have the flexibility to be reconfigured for different requirement. For example as mentioned earlier, our model is configured to recommend hotel cluster based on the user past preferences and searched destination. We can also reconfigure the model to recommend destinations and hotel cluster based on user past preferences by putting destination under the Candidate Model and using the destination dataset to find similarities between destinations."
   ]
  },
  {
   "cell_type": "markdown",
   "id": "e5c54f19",
   "metadata": {},
   "source": [
    "In conclusion, we are satifised with the performance of our top 2 models especially the TFRS model which achieved a kaggle score of 0.2194 and beat the baseline score of 0.07. At the same time, the models can be further improved to achieve better scores which match the top scores in Kaggle."
   ]
  },
  {
   "cell_type": "markdown",
   "id": "4c01b4a6",
   "metadata": {},
   "source": [
    "## 9. References and Data Sources"
   ]
  },
  {
   "cell_type": "markdown",
   "id": "a66bfd25",
   "metadata": {},
   "source": [
    "1) https://towardsdatascience.com/how-i-was-using-naive-bayes-incorrectly-till-now-part-1-4ed2a7e2212b\n",
    "\n",
    "2) https://towardsdatascience.com/naive-bayes-classifier-how-to-successfully-use-it-in-python-ecf76a995069\n",
    "\n",
    "3) https://www.tensorflow.org/recommenders\n",
    "\n",
    "4) https://towardsdatascience.com/smarter-ways-to-encode-categorical-data-for-machine-learning-part-1-of-3-6dca2f71b159\n",
    "\n",
    "5) https://towardsdatascience.com/how-to-encode-categorical-data-d44dde313131\n",
    "\n",
    "6) https://towardsdatascience.com/comprehensive-guide-on-multiclass-classification-metrics-af94cfb83fbd\n",
    "\n",
    "7) https://www.kaggle.com/c/expedia-hotel-recommendations/overview\n",
    "\n",
    "8) https://machinelearningmastery.com/save-load-machine-learning-models-python-scikit-learn/\n"
   ]
  },
  {
   "cell_type": "code",
   "execution_count": null,
   "id": "a717f694",
   "metadata": {},
   "outputs": [],
   "source": []
  }
 ],
 "metadata": {
  "kernelspec": {
   "display_name": "Python 3",
   "language": "python",
   "name": "python3"
  },
  "language_info": {
   "codemirror_mode": {
    "name": "ipython",
    "version": 3
   },
   "file_extension": ".py",
   "mimetype": "text/x-python",
   "name": "python",
   "nbconvert_exporter": "python",
   "pygments_lexer": "ipython3",
   "version": "3.8.8"
  }
 },
 "nbformat": 4,
 "nbformat_minor": 5
}
