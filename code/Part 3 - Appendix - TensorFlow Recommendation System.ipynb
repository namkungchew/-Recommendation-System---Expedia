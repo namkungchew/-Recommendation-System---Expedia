{
 "cells": [
  {
   "cell_type": "markdown",
   "id": "1b503694",
   "metadata": {},
   "source": [
    "# Project 5: \n",
    "# Expedia Hotel Recommendations\n",
    "## Which hotel type will an Expedia customer book?"
   ]
  },
  {
   "cell_type": "markdown",
   "id": "5a9f01e1",
   "metadata": {},
   "source": [
    "## Appendix:\n",
    "\n",
    "### Table of Contents:\n",
    "\n",
    "1. [TensorFlow Recommendation System (Basic Retrieve Model)](#1.-TensorFlow-Recommendation-System---Basic-Retrieve-Model)  \n",
    "    1. [Preparing input (10 classes / 100,000 data)](#a.-Preparing-input---10-classes-/-100,000-data)  \n",
    "    1. [Basic Retrieval Model](#b.-Basic-Retrieval-Model) \n",
    "1. [Tensorflow Recommendation System (Advanced Model)](#2.-Tensorflow-Recommendation-System---Advanced-Model) \n",
    "    1. [Smaller Dataset - 10 categories](#a.-Smaller-Dataset---10-categories) \n",
    "    1. [Preparing input - Full Dataset](#b.-Preparing-input---Full-Dataset) \n",
    "    1. [Advanced Retrieval Model -  Added Features](#c.-Advanced-Retrieval-Model---Added-Features) \n",
    "1. [Evaluation](#3.-Evaluation) "
   ]
  },
  {
   "cell_type": "code",
   "execution_count": 1,
   "id": "5c32a542",
   "metadata": {},
   "outputs": [],
   "source": [
    "# import libraries\n",
    "\n",
    "import pandas as pd\n",
    "import numpy as np\n",
    "import matplotlib.pyplot as plt\n",
    "import seaborn as sns\n",
    "import datetime\n",
    "\n",
    "\n",
    "import ml_metrics as ml_metrics"
   ]
  },
  {
   "cell_type": "markdown",
   "id": "6361742b",
   "metadata": {},
   "source": [
    "#### Loading in the Data"
   ]
  },
  {
   "cell_type": "code",
   "execution_count": 2,
   "id": "99890788",
   "metadata": {},
   "outputs": [],
   "source": [
    "data = pd.read_csv('../datasets/train_clean.csv')\n",
    "kaggle = pd.read_csv('../datasets/test_clean.csv')"
   ]
  },
  {
   "cell_type": "code",
   "execution_count": 3,
   "id": "9500cbd6",
   "metadata": {},
   "outputs": [],
   "source": [
    "# making sure the data and kaggle set have the same dtypes\n",
    "kaggle['days_to_checkin'] = kaggle['days_to_checkin'].astype('int64')\n",
    "kaggle['stay_length'] = kaggle['stay_length'].astype('int64')\n",
    "kaggle['month_of_staying'] = kaggle['month_of_staying'].astype('int64')"
   ]
  },
  {
   "cell_type": "markdown",
   "id": "48d1b0f4",
   "metadata": {},
   "source": [
    "#### Preprocessing Functions"
   ]
  },
  {
   "cell_type": "code",
   "execution_count": 4,
   "id": "df322bfb",
   "metadata": {},
   "outputs": [],
   "source": [
    "# initial preprocessing\n",
    "\n",
    "def preprocessing(df):\n",
    "    \n",
    "    #change to only year\n",
    "    df['date_time'] = pd.to_datetime(df['date_time'], format = '%Y-%m-%d').dt.year \n",
    "    \n",
    "    # if number of adult is 0, normally it means 1:\n",
    "    df['srch_adults_cnt'] = df['srch_adults_cnt'].map(lambda x: 1 if x == 0 else x)\n",
    "    \n",
    "    # if number of room is 0, normally it means 1:\n",
    "    df['srch_rm_cnt'] = df['srch_rm_cnt'].map(lambda x: 1 if x == 0 else x)\n",
    "\n",
    "    #categorise to 1 for short stay (1 day), 2 for normal stay (2 days to a week) and 3 for long stay (more than a week)\n",
    "    df['stay_length'] = df['stay_length'].map(lambda x: 1 if x<=1 else(2 if x in range(2, 8) else 3))\n",
    "    \n",
    "    #categorise to 1 for urgent booking (1 day), 2 for normal booking (2 days to a month in advance) and 3 for advance booking (more than a month prior)\n",
    "    df['days_to_checkin']= df['days_to_checkin'].map(lambda x: 1 if x<=1 else(2 if x in range(2, 30) else 3))\n",
    "    \n",
    "    return df\n",
    "\n",
    "data = preprocessing(data)\n",
    "kaggle = preprocessing(kaggle)"
   ]
  },
  {
   "cell_type": "code",
   "execution_count": 5,
   "id": "0ee88756",
   "metadata": {},
   "outputs": [],
   "source": [
    "# import libraries for tensorflow\n",
    "\n",
    "import tensorflow as tf\n",
    "from tensorflow.keras.models import Sequential\n",
    "from tensorflow.keras.layers import Dense, Dropout, Activation, Flatten, Embedding\n",
    "from tensorflow.keras import regularizers\n",
    "from tensorflow.keras.callbacks import EarlyStopping\n",
    "from tensorflow.keras import utils\n",
    "from tensorflow.keras.layers.experimental.preprocessing import StringLookup\n",
    "from tensorflow.keras.optimizers import Adam\n",
    "import tensorflow_recommenders as tfrs\n",
    "%load_ext tensorboard\n",
    "import tensorboard\n",
    "\n",
    "from typing import Dict, Text\n",
    "\n",
    "import logging\n",
    "import os\n",
    "\n",
    "os.environ['TF_CPP_MIN_LOG_LEVEL'] = '3'  # FATAL\n",
    "logging.getLogger('tensorflow').setLevel(logging.FATAL)"
   ]
  },
  {
   "cell_type": "markdown",
   "id": "09bb106a",
   "metadata": {},
   "source": [
    "## 1. TensorFlow Recommendation System - Basic Retrieve Model"
   ]
  },
  {
   "cell_type": "markdown",
   "id": "07fb0e18",
   "metadata": {},
   "source": [
    "### a. Preparing input - 10 classes / 100,000 data"
   ]
  },
  {
   "cell_type": "code",
   "execution_count": 6,
   "id": "0729f3b4",
   "metadata": {},
   "outputs": [],
   "source": [
    "#subset if needed\n",
    "\n",
    "most_popular_hotel_clusters = list(data['hotel_cluster'].value_counts()[0:10].index)\n",
    "data_sub = data[data['hotel_cluster'].map(lambda x: x in most_popular_hotel_clusters)]\n",
    "data_sub = data_sub[:100_000]\n",
    "\n",
    "preference = data_sub[['user_id', 'hotel_cluster']].astype(str)\n",
    "hotel_cluster = data_sub[['hotel_cluster']].astype(str)"
   ]
  },
  {
   "cell_type": "code",
   "execution_count": 7,
   "id": "f8d23df7",
   "metadata": {},
   "outputs": [
    {
     "data": {
      "text/html": [
       "<div>\n",
       "<style scoped>\n",
       "    .dataframe tbody tr th:only-of-type {\n",
       "        vertical-align: middle;\n",
       "    }\n",
       "\n",
       "    .dataframe tbody tr th {\n",
       "        vertical-align: top;\n",
       "    }\n",
       "\n",
       "    .dataframe thead th {\n",
       "        text-align: right;\n",
       "    }\n",
       "</style>\n",
       "<table border=\"1\" class=\"dataframe\">\n",
       "  <thead>\n",
       "    <tr style=\"text-align: right;\">\n",
       "      <th></th>\n",
       "      <th>user_id</th>\n",
       "      <th>hotel_cluster</th>\n",
       "    </tr>\n",
       "  </thead>\n",
       "  <tbody>\n",
       "    <tr>\n",
       "      <th>4</th>\n",
       "      <td>1482</td>\n",
       "      <td>95</td>\n",
       "    </tr>\n",
       "    <tr>\n",
       "      <th>5</th>\n",
       "      <td>1482</td>\n",
       "      <td>95</td>\n",
       "    </tr>\n",
       "    <tr>\n",
       "      <th>6</th>\n",
       "      <td>1482</td>\n",
       "      <td>95</td>\n",
       "    </tr>\n",
       "    <tr>\n",
       "      <th>17</th>\n",
       "      <td>3313</td>\n",
       "      <td>91</td>\n",
       "    </tr>\n",
       "    <tr>\n",
       "      <th>19</th>\n",
       "      <td>3925</td>\n",
       "      <td>42</td>\n",
       "    </tr>\n",
       "  </tbody>\n",
       "</table>\n",
       "</div>"
      ],
      "text/plain": [
       "   user_id hotel_cluster\n",
       "4     1482            95\n",
       "5     1482            95\n",
       "6     1482            95\n",
       "17    3313            91\n",
       "19    3925            42"
      ]
     },
     "execution_count": 7,
     "metadata": {},
     "output_type": "execute_result"
    }
   ],
   "source": [
    "preference.head()"
   ]
  },
  {
   "cell_type": "code",
   "execution_count": 8,
   "id": "76615e2b",
   "metadata": {},
   "outputs": [
    {
     "data": {
      "text/html": [
       "<div>\n",
       "<style scoped>\n",
       "    .dataframe tbody tr th:only-of-type {\n",
       "        vertical-align: middle;\n",
       "    }\n",
       "\n",
       "    .dataframe tbody tr th {\n",
       "        vertical-align: top;\n",
       "    }\n",
       "\n",
       "    .dataframe thead th {\n",
       "        text-align: right;\n",
       "    }\n",
       "</style>\n",
       "<table border=\"1\" class=\"dataframe\">\n",
       "  <thead>\n",
       "    <tr style=\"text-align: right;\">\n",
       "      <th></th>\n",
       "      <th>hotel_cluster</th>\n",
       "    </tr>\n",
       "  </thead>\n",
       "  <tbody>\n",
       "    <tr>\n",
       "      <th>4</th>\n",
       "      <td>95</td>\n",
       "    </tr>\n",
       "    <tr>\n",
       "      <th>5</th>\n",
       "      <td>95</td>\n",
       "    </tr>\n",
       "    <tr>\n",
       "      <th>6</th>\n",
       "      <td>95</td>\n",
       "    </tr>\n",
       "    <tr>\n",
       "      <th>17</th>\n",
       "      <td>91</td>\n",
       "    </tr>\n",
       "    <tr>\n",
       "      <th>19</th>\n",
       "      <td>42</td>\n",
       "    </tr>\n",
       "  </tbody>\n",
       "</table>\n",
       "</div>"
      ],
      "text/plain": [
       "   hotel_cluster\n",
       "4             95\n",
       "5             95\n",
       "6             95\n",
       "17            91\n",
       "19            42"
      ]
     },
     "execution_count": 8,
     "metadata": {},
     "output_type": "execute_result"
    }
   ],
   "source": [
    "hotel_cluster.head()"
   ]
  },
  {
   "cell_type": "code",
   "execution_count": 9,
   "id": "644e0c77",
   "metadata": {},
   "outputs": [
    {
     "data": {
      "text/plain": [
       "hotel_cluster\n",
       "91               17688\n",
       "48               12721\n",
       "42               10676\n",
       "59                9660\n",
       "28                9282\n",
       "16                8225\n",
       "18                8068\n",
       "50                7947\n",
       "95                7943\n",
       "82                7790\n",
       "dtype: int64"
      ]
     },
     "execution_count": 9,
     "metadata": {},
     "output_type": "execute_result"
    }
   ],
   "source": [
    "hotel_cluster.value_counts()"
   ]
  },
  {
   "cell_type": "code",
   "execution_count": 10,
   "id": "7623b8d2",
   "metadata": {},
   "outputs": [],
   "source": [
    "# changing data to tf.Dataset format\n",
    "\n",
    "preference = tf.data.Dataset.from_tensor_slices(dict(preference))\n",
    "preference = preference.map(lambda x: {'hotel_cluster': x['hotel_cluster'],\n",
    "                                         'user_id': x['user_id']\n",
    "                                        }\n",
    "                             )\n",
    "\n",
    "unique = hotel_cluster['hotel_cluster'].unique()\n",
    "unique = pd.DataFrame(unique)\n",
    "unique.columns = ['hotel_cluster']\n",
    "hotel_cluster = tf.data.Dataset.from_tensor_slices(dict(unique))\n",
    "hotel_cluster = hotel_cluster.map(lambda x: x['hotel_cluster'])"
   ]
  },
  {
   "cell_type": "code",
   "execution_count": 11,
   "id": "797e036d",
   "metadata": {},
   "outputs": [
    {
     "data": {
      "text/plain": [
       "[{'hotel_cluster': b'95', 'user_id': b'1482'},\n",
       " {'hotel_cluster': b'95', 'user_id': b'1482'},\n",
       " {'hotel_cluster': b'95', 'user_id': b'1482'},\n",
       " {'hotel_cluster': b'91', 'user_id': b'3313'},\n",
       " {'hotel_cluster': b'42', 'user_id': b'3925'}]"
      ]
     },
     "execution_count": 11,
     "metadata": {},
     "output_type": "execute_result"
    }
   ],
   "source": [
    "list(preference.as_numpy_iterator())[:5]"
   ]
  },
  {
   "cell_type": "code",
   "execution_count": 12,
   "id": "81ba2a28",
   "metadata": {},
   "outputs": [
    {
     "data": {
      "text/plain": [
       "[b'95', b'91', b'42', b'18', b'82']"
      ]
     },
     "execution_count": 12,
     "metadata": {},
     "output_type": "execute_result"
    }
   ],
   "source": [
    "list(hotel_cluster.as_numpy_iterator())[:5]"
   ]
  },
  {
   "cell_type": "code",
   "execution_count": 13,
   "id": "e4d96189",
   "metadata": {},
   "outputs": [],
   "source": [
    "#creating vocabulary for model\n",
    "user_ids = preference.batch(100_000).map(lambda x: x['user_id'])\n",
    "hotel_cluster_ids = hotel_cluster.batch(1_000)\n",
    "\n",
    "unique_user_ids = np.unique(np.concatenate(list(user_ids)))\n",
    "unique_hotel_clusters = np.unique(np.concatenate(list(hotel_cluster_ids)))"
   ]
  },
  {
   "cell_type": "code",
   "execution_count": 14,
   "id": "9b856997",
   "metadata": {},
   "outputs": [
    {
     "data": {
      "text/plain": [
       "array([b'1000005', b'1000026', b'1000035', ..., b'999913', b'999943',\n",
       "       b'999971'], dtype=object)"
      ]
     },
     "execution_count": 14,
     "metadata": {},
     "output_type": "execute_result"
    }
   ],
   "source": [
    "unique_user_ids"
   ]
  },
  {
   "cell_type": "code",
   "execution_count": 15,
   "id": "d5666dfb",
   "metadata": {},
   "outputs": [
    {
     "data": {
      "text/plain": [
       "array([b'16', b'18', b'28', b'42', b'48', b'50', b'59', b'82', b'91',\n",
       "       b'95'], dtype=object)"
      ]
     },
     "execution_count": 15,
     "metadata": {},
     "output_type": "execute_result"
    }
   ],
   "source": [
    "unique_hotel_clusters"
   ]
  },
  {
   "cell_type": "code",
   "execution_count": 16,
   "id": "dd1b7ced",
   "metadata": {},
   "outputs": [],
   "source": [
    "# train_test_split\n",
    "\n",
    "tf.random.set_seed(16)\n",
    "\n",
    "datasize = len(data_sub)\n",
    "test_ratio = 0.25\n",
    "train_size = int((1- test_ratio) * datasize)\n",
    "test_size = int(test_ratio * datasize)\n",
    "\n",
    "shuffled = preference.shuffle(datasize, seed=16, reshuffle_each_iteration=False)\n",
    "train = shuffled.take(train_size)\n",
    "test = shuffled.skip(train_size).take(test_size)"
   ]
  },
  {
   "cell_type": "markdown",
   "id": "9f32a024",
   "metadata": {},
   "source": [
    "### b. Basic Retrieval Model"
   ]
  },
  {
   "attachments": {
    "image.png": {
     "image/png": "[encoded data removed]"
    }
   },
   "cell_type": "markdown",
   "id": "a3c30961",
   "metadata": {},
   "source": [
    "![image.png](attachment:image.png)"
   ]
  },
  {
   "cell_type": "code",
   "execution_count": 17,
   "id": "f4733200",
   "metadata": {},
   "outputs": [],
   "source": [
    "# instantiate query and candidate models for input\n",
    "embedding_dimension = 32\n",
    "\n",
    "# Query Tower\n",
    "user_model = Sequential([StringLookup(vocabulary = unique_user_ids, mask_token = None),\n",
    "                         Embedding(len(unique_user_ids) + 1, embedding_dimension)\n",
    "                        ])\n",
    "\n",
    "# Candidate Tower\n",
    "hotel_cluster_model = Sequential([StringLookup(vocabulary = unique_hotel_clusters, mask_token = None),\n",
    "                                  Embedding(len(unique_hotel_clusters) + 1, embedding_dimension)\n",
    "                                 ])\n",
    "\n",
    "# metric as top K categorical accuracy\n",
    "metrics = tfrs.metrics.FactorizedTopK(candidates = hotel_cluster.batch(128).map(hotel_cluster_model))\n",
    "                                      \n",
    "task = tfrs.tasks.Retrieval(metrics = metrics);"
   ]
  },
  {
   "cell_type": "code",
   "execution_count": 18,
   "id": "8e4df29d",
   "metadata": {},
   "outputs": [],
   "source": [
    "# instantiate recommender model\n",
    "\n",
    "class RetrievalModel(tfrs.Model):\n",
    "    \n",
    "    def __init__(self, \n",
    "                 user_model: tf.keras.Model, \n",
    "                 hotel_cluster_model: tf.keras.Model\n",
    "                 ):\n",
    "        \n",
    "        super().__init__()\n",
    "        self.hotel_cluster_model = hotel_cluster_model\n",
    "        self.user_model = user_model\n",
    "        self.task = task\n",
    "            \n",
    "    def compute_loss(self, \n",
    "                     features: Dict[Text,tf.Tensor], \n",
    "                     training=False) -> tf.Tensor:\n",
    "        \n",
    "        user_embeddings = self.user_model(features['user_id'])\n",
    "        positive_hotel_embeddings = self.hotel_cluster_model(features['hotel_cluster'])\n",
    "\n",
    "        # The task computes the loss and the metrics.\n",
    "        return self.task(user_embeddings, positive_hotel_embeddings)"
   ]
  },
  {
   "cell_type": "code",
   "execution_count": 19,
   "id": "78f32404",
   "metadata": {},
   "outputs": [],
   "source": [
    "cached_train = train.shuffle(datasize).batch(8192).cache()\n",
    "cached_test = test.batch(4096).cache()\n",
    "\n",
    "model = RetrievalModel(user_model, hotel_cluster_model)"
   ]
  },
  {
   "cell_type": "code",
   "execution_count": 20,
   "id": "67c0b407",
   "metadata": {},
   "outputs": [],
   "source": [
    "model.compile(optimizer=tf.keras.optimizers.Adagrad(learning_rate=0.1))"
   ]
  },
  {
   "cell_type": "code",
   "execution_count": 21,
   "id": "b0b490fe",
   "metadata": {},
   "outputs": [
    {
     "name": "stdout",
     "output_type": "stream",
     "text": [
      "Epoch 1/3\n",
      "10/10 [==============================] - 7s 597ms/step - factorized_top_k/top_1_categorical_accuracy: 0.1177 - factorized_top_k/top_5_categorical_accuracy: 0.5347 - factorized_top_k/top_10_categorical_accuracy: 0.9706 - factorized_top_k/top_50_categorical_accuracy: 1.0000 - factorized_top_k/top_100_categorical_accuracy: 1.0000 - loss: 61672.3118 - regularization_loss: 0.0000e+00 - total_loss: 61672.3118 - val_factorized_top_k/top_1_categorical_accuracy: 0.1577 - val_factorized_top_k/top_5_categorical_accuracy: 0.6054 - val_factorized_top_k/top_10_categorical_accuracy: 0.9789 - val_factorized_top_k/top_50_categorical_accuracy: 1.0000 - val_factorized_top_k/top_100_categorical_accuracy: 1.0000 - val_loss: 2500.2275 - val_regularization_loss: 0.0000e+00 - val_total_loss: 2500.2275\n",
      "Epoch 2/3\n",
      "10/10 [==============================] - 5s 512ms/step - factorized_top_k/top_1_categorical_accuracy: 0.3801 - factorized_top_k/top_5_categorical_accuracy: 0.9349 - factorized_top_k/top_10_categorical_accuracy: 0.9987 - factorized_top_k/top_50_categorical_accuracy: 1.0000 - factorized_top_k/top_100_categorical_accuracy: 1.0000 - loss: 57182.5334 - regularization_loss: 0.0000e+00 - total_loss: 57182.5334 - val_factorized_top_k/top_1_categorical_accuracy: 0.1659 - val_factorized_top_k/top_5_categorical_accuracy: 0.6196 - val_factorized_top_k/top_10_categorical_accuracy: 0.9780 - val_factorized_top_k/top_50_categorical_accuracy: 1.0000 - val_factorized_top_k/top_100_categorical_accuracy: 1.0000 - val_loss: 2548.6045 - val_regularization_loss: 0.0000e+00 - val_total_loss: 2548.6045\n",
      "Epoch 3/3\n",
      "10/10 [==============================] - 5s 532ms/step - factorized_top_k/top_1_categorical_accuracy: 0.4080 - factorized_top_k/top_5_categorical_accuracy: 0.9805 - factorized_top_k/top_10_categorical_accuracy: 1.0000 - factorized_top_k/top_50_categorical_accuracy: 1.0000 - factorized_top_k/top_100_categorical_accuracy: 1.0000 - loss: 53298.8788 - regularization_loss: 0.0000e+00 - total_loss: 53298.8788 - val_factorized_top_k/top_1_categorical_accuracy: 0.1624 - val_factorized_top_k/top_5_categorical_accuracy: 0.6191 - val_factorized_top_k/top_10_categorical_accuracy: 0.9770 - val_factorized_top_k/top_50_categorical_accuracy: 1.0000 - val_factorized_top_k/top_100_categorical_accuracy: 1.0000 - val_loss: 2622.3452 - val_regularization_loss: 0.0000e+00 - val_total_loss: 2622.3452\n"
     ]
    }
   ],
   "source": [
    "history = model.fit(cached_train, validation_data=cached_test, epochs=3, batch_size = 512)"
   ]
  },
  {
   "cell_type": "code",
   "execution_count": 22,
   "id": "8cbe973c",
   "metadata": {},
   "outputs": [
    {
     "data": {
      "image/png": "[encoded data removed]",
      "text/plain": [
       "<Figure size 432x288 with 1 Axes>"
      ]
     },
     "metadata": {
      "needs_background": "light"
     },
     "output_type": "display_data"
    }
   ],
   "source": [
    "plt.plot(history.history['loss'], label = 'Train loss')\n",
    "plt.plot(history.history['val_loss'], label = 'Test loss')\n",
    "plt.legend();"
   ]
  },
  {
   "cell_type": "code",
   "execution_count": 23,
   "id": "7ece6203",
   "metadata": {},
   "outputs": [
    {
     "data": {
      "image/png": "[encoded data removed]",
      "text/plain": [
       "<Figure size 432x288 with 1 Axes>"
      ]
     },
     "metadata": {
      "needs_background": "light"
     },
     "output_type": "display_data"
    }
   ],
   "source": [
    "plt.plot(history.history['factorized_top_k/top_5_categorical_accuracy'], label = 'factorized_top_k/top_5_categorical_accuracy')\n",
    "plt.plot(history.history['val_factorized_top_k/top_5_categorical_accuracy'], label = 'val_factorized_top_k/top_5_categorical_accuracy')\n",
    "plt.legend();"
   ]
  },
  {
   "cell_type": "code",
   "execution_count": 24,
   "id": "b469e2c7",
   "metadata": {},
   "outputs": [
    {
     "name": "stdout",
     "output_type": "stream",
     "text": [
      "7/7 [==============================] - 1s 94ms/step - factorized_top_k/top_1_categorical_accuracy: 0.1624 - factorized_top_k/top_5_categorical_accuracy: 0.6191 - factorized_top_k/top_10_categorical_accuracy: 0.9770 - factorized_top_k/top_50_categorical_accuracy: 1.0000 - factorized_top_k/top_100_categorical_accuracy: 1.0000 - loss: 26877.3431 - regularization_loss: 0.0000e+00 - total_loss: 26877.3431\n"
     ]
    },
    {
     "data": {
      "text/plain": [
       "{'factorized_top_k/top_1_categorical_accuracy': 0.16235999763011932,\n",
       " 'factorized_top_k/top_5_categorical_accuracy': 0.6190800070762634,\n",
       " 'factorized_top_k/top_10_categorical_accuracy': 0.9770399928092957,\n",
       " 'factorized_top_k/top_50_categorical_accuracy': 1.0,\n",
       " 'factorized_top_k/top_100_categorical_accuracy': 1.0,\n",
       " 'loss': 2622.34521484375,\n",
       " 'regularization_loss': 0,\n",
       " 'total_loss': 2622.34521484375}"
      ]
     },
     "execution_count": 24,
     "metadata": {},
     "output_type": "execute_result"
    }
   ],
   "source": [
    "model.evaluate(cached_test, return_dict=True)"
   ]
  },
  {
   "cell_type": "code",
   "execution_count": 25,
   "id": "5c228d72",
   "metadata": {},
   "outputs": [
    {
     "name": "stdout",
     "output_type": "stream",
     "text": [
      "Top 5 recommendations for user 94390: [b'18' b'42' b'48' b'59' b'91']\n",
      "Scores for top 5: [2.1793728  0.8887844  0.7949772  0.64180493 0.47804558]\n"
     ]
    }
   ],
   "source": [
    "# Use brute-force search to set up retrieval using the trained representations.\n",
    "index = tfrs.layers.factorized_top_k.BruteForce(model.user_model)\n",
    "index.index(hotel_cluster.batch(1000).map(model.hotel_cluster_model), hotel_cluster)\n",
    "\n",
    "# Get some recommendations.\n",
    "score, recommend = index(tf.constant(['94390']))\n",
    "print(f\"Top 5 recommendations for user 94390: {recommend[0, :5]}\")\n",
    "print(f'Scores for top 5: {score[0, :5]}')"
   ]
  },
  {
   "cell_type": "markdown",
   "id": "312f9a90",
   "metadata": {},
   "source": [
    "#### Predict for Kaggle (Only Run if Wanted to save file for Kaggle Submission)"
   ]
  },
  {
   "cell_type": "code",
   "execution_count": 26,
   "id": "0b9e91dc",
   "metadata": {},
   "outputs": [],
   "source": [
    "def convert_to_kaggleformat(index, kaggle):\n",
    "    \n",
    "    def gettop5(user):        \n",
    "        _, recommend = index(tf.constant([user]))\n",
    "        top5 = [x.decode('utf-8') for x in np.array(recommend[0, :5])]\n",
    "        pred = ' '.join(top5)\n",
    "        return pred\n",
    "    \n",
    "    submit = kaggle[['id']].copy(deep = True)\n",
    "    submit['hotel_cluster']= kaggle.apply(lambda x: gettop5(x['user_id'].astype(str)), axis = 1)\n",
    "    \n",
    "    return submit"
   ]
  },
  {
   "cell_type": "code",
   "execution_count": 27,
   "id": "634fea71",
   "metadata": {},
   "outputs": [],
   "source": [
    "# submit = convert_to_kaggleformat(index, kaggle)\n",
    "# submit.to_csv('../datasets/submission_tfrs.csv', index = False)"
   ]
  },
  {
   "attachments": {
    "image.png": {
     "image/png": "[encoded data removed]"
    }
   },
   "cell_type": "markdown",
   "id": "eda1e0e3",
   "metadata": {},
   "source": [
    "![image.png](attachment:image.png)"
   ]
  },
  {
   "cell_type": "markdown",
   "id": "6fa8c398",
   "metadata": {},
   "source": [
    "This retrival model only scored 0.03454 on Kaggle. This is lower than the baseline score. We are not concerned as we haven't used the full dataset nor run the model on more epochs but also it shows that more work needs to be done than just a simple retrieve model with only user_id and hotel_clusters"
   ]
  },
  {
   "cell_type": "markdown",
   "id": "3ee903b5",
   "metadata": {},
   "source": [
    "## 2. Tensorflow Recommendation System - Advanced Model"
   ]
  },
  {
   "attachments": {
    "image-2.png": {
     "image/png": "[encoded data removed]"
    }
   },
   "cell_type": "markdown",
   "id": "c3b89a1f",
   "metadata": {},
   "source": [
    "![image-2.png](attachment:image-2.png)"
   ]
  },
  {
   "cell_type": "markdown",
   "id": "1ec609ef",
   "metadata": {},
   "source": [
    "### a. Smaller Dataset - 10 categories"
   ]
  },
  {
   "cell_type": "markdown",
   "id": "4d26794d",
   "metadata": {},
   "source": [
    "A smaller Dataset was ran earlier and the model saved. The code is edited to run for the full dataset in section b and c below under full dataset. We shall only load the model here to present the results."
   ]
  },
  {
   "cell_type": "code",
   "execution_count": 28,
   "id": "d560353d",
   "metadata": {},
   "outputs": [],
   "source": [
    "#subset if needed\n",
    "\n",
    "most_popular_hotel_clusters = list(data['hotel_cluster'].value_counts()[:10].index)\n",
    "data_sub = data[data['hotel_cluster'].map(lambda x: x in most_popular_hotel_clusters)]\n",
    "data_sub = data_sub[:100_000]\n",
    "\n",
    "preference = data_sub.drop(['date_time','cnt'], axis = 1).astype(str)\n",
    "hotel_cluster = data_sub[['hotel_cluster']].astype(str)"
   ]
  },
  {
   "cell_type": "code",
   "execution_count": 29,
   "id": "dff16cb1",
   "metadata": {},
   "outputs": [],
   "source": [
    "# changing data to tf.Dataset format\n",
    "\n",
    "preference = tf.data.Dataset.from_tensor_slices(dict(preference))\n",
    "preference = preference.map(lambda x: {'hotel_cluster': x['hotel_cluster'],\n",
    "                                       'user_id': x['user_id'],\n",
    "                                       'user_location_city': x['user_location_city'],\n",
    "                                       'is_mobile': x['is_mobile'],\n",
    "                                       'is_package': x['is_package'],\n",
    "                                       'channel': x['channel'],\n",
    "                                       'srch_adults_cnt': x['srch_adults_cnt'],\n",
    "                                       'srch_children_cnt': x['srch_children_cnt'],\n",
    "                                       'srch_rm_cnt': x['srch_rm_cnt'],\n",
    "                                       'srch_destination_id': x['srch_destination_id'],\n",
    "                                       'hotel_market': x['hotel_market'],\n",
    "                                       'days_to_checkin': x['days_to_checkin'],\n",
    "                                       'stay_length': x['stay_length'],\n",
    "                                       'month_of_booking': x['month_of_booking'],\n",
    "                                       'month_of_staying': x['month_of_staying']\n",
    "                                      }\n",
    "                           )\n",
    "\n",
    "unique = hotel_cluster['hotel_cluster'].unique()\n",
    "unique = pd.DataFrame(unique)\n",
    "unique.columns = ['hotel_cluster']\n",
    "hotel_cluster = tf.data.Dataset.from_tensor_slices(dict(unique))\n",
    "hotel_cluster = hotel_cluster.map(lambda x: x['hotel_cluster'])"
   ]
  },
  {
   "cell_type": "code",
   "execution_count": 30,
   "id": "d8c6e887",
   "metadata": {},
   "outputs": [],
   "source": [
    "# train_test_split\n",
    "\n",
    "tf.random.set_seed(16)\n",
    "\n",
    "datasize = len(data_sub)\n",
    "test_ratio = 0.25\n",
    "train_size = int((1- test_ratio) * datasize)\n",
    "test_size = int(test_ratio * datasize)\n",
    "\n",
    "shuffled = preference.shuffle(datasize, seed=16, reshuffle_each_iteration=False)\n",
    "train = shuffled.take(train_size)\n",
    "test = shuffled.skip(train_size).take(test_size)\n",
    "\n",
    "cached_train = train.shuffle(datasize).batch(8192).cache()\n",
    "cached_test = test.batch(4096).cache()"
   ]
  },
  {
   "cell_type": "code",
   "execution_count": 31,
   "id": "62932573",
   "metadata": {},
   "outputs": [],
   "source": [
    "smallset = tf.keras.models.load_model('../models/TFRS_10_class/')"
   ]
  },
  {
   "cell_type": "code",
   "execution_count": 32,
   "id": "d9f8c75f",
   "metadata": {},
   "outputs": [],
   "source": [
    "def convert_tensor_to_mapX_format(index, test): \n",
    "\n",
    "    '''\n",
    "    Function to map output of BruteForce Layer to nested list format for input to ML Metrics\n",
    "    \n",
    "    '''\n",
    "    \n",
    "    df = test.map(lambda x: {'user_id': x['user_id'],\n",
    "                             'user_location_city': x['user_location_city'],\n",
    "                             'is_mobile': x['is_mobile'],\n",
    "                             'is_package': x['is_package'],\n",
    "                             'channel': x['channel'],\n",
    "                             'srch_adults_cnt': x['srch_adults_cnt'],\n",
    "                             'srch_children_cnt': x['srch_children_cnt'],\n",
    "                             'srch_rm_cnt': x['srch_rm_cnt'],\n",
    "                             'srch_destination_id': x['srch_destination_id'],\n",
    "                             'hotel_market': x['hotel_market'],\n",
    "                             'days_to_checkin': x['days_to_checkin'],\n",
    "                             'stay_length': x['stay_length'],\n",
    "                             'month_of_booking': x['month_of_booking'],\n",
    "                             'month_of_staying': x['month_of_staying']\n",
    "                              }\n",
    "                   )\n",
    "    prediction = []\n",
    "\n",
    "    for row in df.batch(8192):\n",
    "        top = index(row)[1].numpy()[:, :5]\n",
    "        prediction += pd.DataFrame(top).apply(lambda x: [x[i].decode('utf-8') for i in range(len(x))], axis = 1).tolist()    \n",
    "    \n",
    "    return prediction"
   ]
  },
  {
   "cell_type": "code",
   "execution_count": 33,
   "id": "3188979f",
   "metadata": {},
   "outputs": [
    {
     "name": "stdout",
     "output_type": "stream",
     "text": [
      "Trainset MAP@5 score: 0.9675977777777777\n"
     ]
    }
   ],
   "source": [
    "predictions = convert_tensor_to_mapX_format(smallset, train)\n",
    "target = train.map(lambda x: x['hotel_cluster'])\n",
    "target = list(target.as_numpy_iterator())\n",
    "target = [[x.decode('utf-8')] for x in target]\n",
    "print(f'Trainset MAP@5 score: {ml_metrics.mapk(target, predictions, k=5)}')"
   ]
  },
  {
   "cell_type": "code",
   "execution_count": 34,
   "id": "5a5c9dc4",
   "metadata": {},
   "outputs": [
    {
     "name": "stdout",
     "output_type": "stream",
     "text": [
      "Testset MAP@5 score: 0.569474\n"
     ]
    }
   ],
   "source": [
    "predictions = convert_tensor_to_mapX_format(smallset, test)\n",
    "target = test.map(lambda x: x['hotel_cluster'])\n",
    "target = list(target.as_numpy_iterator())\n",
    "target = [[x.decode('utf-8')] for x in target]\n",
    "print(f'Testset MAP@5 score: {ml_metrics.mapk(target, predictions, k=5)}')"
   ]
  },
  {
   "cell_type": "markdown",
   "id": "d7fa029d",
   "metadata": {},
   "source": [
    "### b. Preparing input - Full Dataset"
   ]
  },
  {
   "cell_type": "code",
   "execution_count": 35,
   "id": "93d023e2",
   "metadata": {},
   "outputs": [],
   "source": [
    "#subset if needed\n",
    "\n",
    "most_popular_hotel_clusters = list(data['hotel_cluster'].value_counts()[:].index)\n",
    "data_sub = data[data['hotel_cluster'].map(lambda x: x in most_popular_hotel_clusters)]\n",
    "data_sub = data_sub[:]\n",
    "\n",
    "preference = data_sub.drop(['date_time','cnt'], axis = 1).astype(str)\n",
    "hotel_cluster = data_sub[['hotel_cluster']].astype(str)"
   ]
  },
  {
   "cell_type": "code",
   "execution_count": 36,
   "id": "b6ff4333",
   "metadata": {},
   "outputs": [],
   "source": [
    "# changing data to tf.Dataset format\n",
    "\n",
    "preference = tf.data.Dataset.from_tensor_slices(dict(preference))\n",
    "preference = preference.map(lambda x: {'hotel_cluster': x['hotel_cluster'],\n",
    "                                       'user_id': x['user_id'],\n",
    "                                       'user_location_city': x['user_location_city'],\n",
    "                                       'is_mobile': x['is_mobile'],\n",
    "                                       'is_package': x['is_package'],\n",
    "                                       'channel': x['channel'],\n",
    "                                       'srch_adults_cnt': x['srch_adults_cnt'],\n",
    "                                       'srch_children_cnt': x['srch_children_cnt'],\n",
    "                                       'srch_rm_cnt': x['srch_rm_cnt'],\n",
    "                                       'srch_destination_id': x['srch_destination_id'],\n",
    "                                       'hotel_market': x['hotel_market'],\n",
    "                                       'days_to_checkin': x['days_to_checkin'],\n",
    "                                       'stay_length': x['stay_length'],\n",
    "                                       'month_of_booking': x['month_of_booking'],\n",
    "                                       'month_of_staying': x['month_of_staying']\n",
    "                                      }\n",
    "                           )\n",
    "\n",
    "unique = hotel_cluster['hotel_cluster'].unique()\n",
    "unique = pd.DataFrame(unique)\n",
    "unique.columns = ['hotel_cluster']\n",
    "hotel_cluster = tf.data.Dataset.from_tensor_slices(dict(unique))\n",
    "hotel_cluster = hotel_cluster.map(lambda x: x['hotel_cluster'])"
   ]
  },
  {
   "cell_type": "markdown",
   "id": "670c04dc",
   "metadata": {},
   "source": [
    "### c. Advanced Retrieval Model - Added Features"
   ]
  },
  {
   "cell_type": "code",
   "execution_count": 37,
   "id": "b3fa4fcd",
   "metadata": {},
   "outputs": [],
   "source": [
    "class QueryModel(tf.keras.Model):\n",
    "    \n",
    "    def __init__(self):\n",
    "        super().__init__()             \n",
    "\n",
    "        embedding_dimension = 32\n",
    "        \n",
    "        # Embedding for all the features related to the user\n",
    "        \n",
    "        self.user_id_lookup = StringLookup()\n",
    "        self.user_id_lookup.adapt(preference.map(lambda x: x['user_id']))\n",
    "        self.user_id_embedding = Embedding(self.user_id_lookup.vocabulary_size(), embedding_dimension)\n",
    "        self.user_id_model = Sequential([self.user_id_lookup, self.user_id_embedding])\n",
    "        \n",
    "        self.user_location_city_lookup = StringLookup()\n",
    "        self.user_location_city_lookup.adapt(preference.map(lambda x: x['user_location_city']))\n",
    "        self.user_location_city_embedding = Embedding(self.user_location_city_lookup.vocabulary_size(), embedding_dimension)\n",
    "        self.user_location_city_model = Sequential([self.user_location_city_lookup, self.user_location_city_embedding])\n",
    "        \n",
    "        self.is_mobile_lookup = StringLookup()\n",
    "        self.is_mobile_lookup.adapt(preference.map(lambda x: x['is_mobile']))\n",
    "        self.is_mobile_embedding = Embedding(self.is_mobile_lookup.vocabulary_size(), embedding_dimension)\n",
    "        self.is_mobile_model = Sequential([self.is_mobile_lookup, self.is_mobile_embedding])\n",
    "        \n",
    "        self.is_package_lookup = StringLookup()\n",
    "        self.is_package_lookup.adapt(preference.map(lambda x: x['is_package']))\n",
    "        self.is_package_embedding = Embedding(self.is_package_lookup.vocabulary_size(), embedding_dimension)\n",
    "        self.is_package_model = Sequential([self.is_package_lookup, self.is_package_embedding])\n",
    "        \n",
    "        self.channel_lookup = StringLookup()\n",
    "        self.channel_lookup.adapt(preference.map(lambda x: x['channel']))\n",
    "        self.channel_embedding = Embedding(self.channel_lookup.vocabulary_size(), embedding_dimension)\n",
    "        self.channel_model = Sequential([self.channel_lookup, self.channel_embedding])\n",
    "\n",
    "        self.srch_adults_cnt_lookup = StringLookup()\n",
    "        self.srch_adults_cnt_lookup.adapt(preference.map(lambda x: x['srch_adults_cnt']))\n",
    "        self.srch_adults_cnt_embedding = Embedding(self.srch_adults_cnt_lookup.vocabulary_size(), embedding_dimension)\n",
    "        self.srch_adults_cnt_model = Sequential([self.srch_adults_cnt_lookup, self.srch_adults_cnt_embedding])        \n",
    "\n",
    "        self.srch_children_cnt_lookup = StringLookup()\n",
    "        self.srch_children_cnt_lookup.adapt(preference.map(lambda x: x['srch_children_cnt']))\n",
    "        self.srch_children_cnt_embedding = Embedding(self.srch_children_cnt_lookup.vocabulary_size(), embedding_dimension)\n",
    "        self.srch_children_cnt_model = Sequential([self.srch_children_cnt_lookup, self.srch_children_cnt_embedding])     \n",
    "\n",
    "        self.srch_rm_cnt_lookup = StringLookup()\n",
    "        self.srch_rm_cnt_lookup.adapt(preference.map(lambda x: x['srch_rm_cnt']))\n",
    "        self.srch_rm_cnt_embedding = Embedding(self.srch_rm_cnt_lookup.vocabulary_size(), embedding_dimension)\n",
    "        self.srch_rm_cnt_model = Sequential([self.srch_rm_cnt_lookup, self.srch_rm_cnt_embedding])   \n",
    "        \n",
    "        self.srch_destination_id_lookup = StringLookup()\n",
    "        self.srch_destination_id_lookup.adapt(preference.map(lambda x: x['srch_destination_id']))\n",
    "        self.srch_destination_id_embedding = Embedding(self.srch_destination_id_lookup.vocabulary_size(), embedding_dimension)\n",
    "        self.srch_destination_id_model = Sequential([self.srch_destination_id_lookup, self.srch_destination_id_embedding])\n",
    "         \n",
    "        self.hotel_market_lookup = StringLookup()\n",
    "        self.hotel_market_lookup.adapt(preference.map(lambda x: x['hotel_market']))\n",
    "        self.hotel_market_embedding = Embedding(self.hotel_market_lookup.vocabulary_size(), embedding_dimension)\n",
    "        self.hotel_market_model = Sequential([self.hotel_market_lookup, self.hotel_market_embedding])       \n",
    " \n",
    "        self.days_to_checkin_lookup = StringLookup()\n",
    "        self.days_to_checkin_lookup.adapt(preference.map(lambda x: x['days_to_checkin']))\n",
    "        self.days_to_checkin_embedding = Embedding(self.days_to_checkin_lookup.vocabulary_size(), embedding_dimension)\n",
    "        self.days_to_checkin_model = Sequential([self.days_to_checkin_lookup, self.days_to_checkin_embedding])            \n",
    "        \n",
    "        self.stay_length_lookup = StringLookup()\n",
    "        self.stay_length_lookup.adapt(preference.map(lambda x: x['stay_length']))\n",
    "        self.stay_length_embedding = Embedding(self.stay_length_lookup.vocabulary_size(), embedding_dimension)\n",
    "        self.stay_length_model = Sequential([self.stay_length_lookup, self.stay_length_embedding])      \n",
    "                \n",
    "        self.month_of_booking_lookup = StringLookup()\n",
    "        self.month_of_booking_lookup.adapt(preference.map(lambda x: x['month_of_booking']))\n",
    "        self.month_of_booking_embedding = Embedding(self.month_of_booking_lookup.vocabulary_size(), embedding_dimension)\n",
    "        self.month_of_booking_model = Sequential([self.month_of_booking_lookup, self.month_of_booking_embedding])      \n",
    "                \n",
    "        self.month_of_staying_lookup = StringLookup()\n",
    "        self.month_of_staying_lookup.adapt(preference.map(lambda x: x['month_of_staying']))\n",
    "        self.month_of_staying_embedding = Embedding(self.month_of_staying_lookup.vocabulary_size(), embedding_dimension)\n",
    "        self.month_of_staying_model = Sequential([self.month_of_staying_lookup, self.month_of_staying_embedding])    \n",
    "        \n",
    "        \n",
    "    def call(self, inputs):\n",
    "        \n",
    "    # Take the input dictionary, pass it through each input layer and concatenate the result.\n",
    "    \n",
    "        return tf.concat([\n",
    "            self.user_id_model(inputs[\"user_id\"]),\n",
    "            self.user_location_city_model(inputs[\"user_location_city\"]),\n",
    "            self.is_mobile_model(inputs[\"is_mobile\"]),\n",
    "            self.is_package_model(inputs[\"is_package\"]),\n",
    "            self.channel_model(inputs[\"channel\"]),\n",
    "            self.srch_adults_cnt_model(inputs[\"srch_adults_cnt\"]),\n",
    "            self.srch_children_cnt_model(inputs[\"srch_children_cnt\"]),\n",
    "            self.srch_rm_cnt_model(inputs[\"srch_rm_cnt\"]),\n",
    "            self.srch_destination_id_model(inputs[\"srch_destination_id\"]),\n",
    "            self.hotel_market_model(inputs[\"hotel_market\"]),\n",
    "            self.days_to_checkin_model(inputs[\"days_to_checkin\"]),\n",
    "            self.stay_length_model(inputs[\"stay_length\"]),\n",
    "            self.month_of_booking_model(inputs[\"month_of_booking\"]),\n",
    "            self.month_of_staying_model(inputs[\"month_of_staying\"])\n",
    "            \n",
    "        ], axis=1)"
   ]
  },
  {
   "cell_type": "markdown",
   "id": "632bbdd3",
   "metadata": {},
   "source": [
    "Notice that we put Destination as a features under QueryModel instead of a feature under CandidateModel as currently we are designing the recommendation system whereby the system recommend a similar hotel cluster to the one that a similar user has booked before. We can consider putting it under the CandidateModel also if we want to redesign the TFRS model to present destinations and Hotel Cluster Recommendations."
   ]
  },
  {
   "cell_type": "code",
   "execution_count": 38,
   "id": "78390167",
   "metadata": {},
   "outputs": [],
   "source": [
    "class CandidateModel(tf.keras.Model):\n",
    "    \n",
    "    def __init__(self):\n",
    "        super().__init__()     \n",
    "\n",
    "        embedding_dimension = 32 \n",
    "\n",
    "        self.hotel_cluster_lookup = StringLookup()\n",
    "        self.hotel_cluster_lookup.adapt(preference.map(lambda x: x['hotel_cluster']))\n",
    "        self.hotel_cluster_embedding = Embedding(self.hotel_cluster_lookup.vocabulary_size(), embedding_dimension)\n",
    "        self.hotel_cluster_model = Sequential([self.hotel_cluster_lookup, self.hotel_cluster_embedding])\n",
    "\n",
    "    def call(self, inputs):\n",
    "    \n",
    "        return tf.concat([\n",
    "            self.hotel_cluster_model(inputs),            \n",
    "        ], axis=1)"
   ]
  },
  {
   "cell_type": "code",
   "execution_count": 39,
   "id": "9de0e7e1",
   "metadata": {},
   "outputs": [],
   "source": [
    "class RetrievalModelAdvanced(tfrs.models.Model):\n",
    "    \n",
    "    def __init__(self):\n",
    "        super().__init__()\n",
    "\n",
    "        # calling the QueryModel and putting another layer to shape the number of outputs\n",
    "        self.query_model = Sequential([\n",
    "            QueryModel(),\n",
    "            Dense(32)\n",
    "        ])\n",
    "        \n",
    "        # calling the Candidate Model and putting another layer to shape the number of outputs\n",
    "        self.candidate_model = Sequential([\n",
    "            CandidateModel(),\n",
    "            Dense(32)\n",
    "        ])\n",
    "        \n",
    "        metrics = tfrs.metrics.FactorizedTopK(candidates = hotel_cluster.batch(128).map(self.candidate_model))                  \n",
    "        self.task = tfrs.tasks.Retrieval(metrics = metrics);\n",
    "            \n",
    "    def compute_loss(self, features, training=False):\n",
    "        \n",
    "        query_embeddings = self.query_model({\n",
    "            'user_id': features['user_id'],\n",
    "            'user_location_city': features['user_location_city'],\n",
    "            'is_mobile': features['is_mobile'],\n",
    "            'is_package': features['is_package'],\n",
    "            'channel': features['channel'],\n",
    "            'srch_adults_cnt': features['srch_adults_cnt'],\n",
    "            'srch_children_cnt': features['srch_children_cnt'],\n",
    "            'srch_rm_cnt': features['srch_rm_cnt'],\n",
    "            'srch_destination_id': features['srch_destination_id'],\n",
    "            'hotel_market': features['hotel_market'],\n",
    "            'days_to_checkin': features['days_to_checkin'],\n",
    "            'stay_length': features['stay_length'],\n",
    "            'month_of_booking': features['month_of_booking'],\n",
    "            'month_of_staying': features['month_of_staying'],\n",
    "        })\n",
    "        \n",
    "        hotel_embeddings = self.candidate_model(features['hotel_cluster'])\n",
    "\n",
    "        return self.task(query_embeddings, hotel_embeddings)"
   ]
  },
  {
   "cell_type": "code",
   "execution_count": 40,
   "id": "548d6bb1",
   "metadata": {},
   "outputs": [],
   "source": [
    "# train_test_split\n",
    "\n",
    "tf.random.set_seed(16)\n",
    "\n",
    "datasize = len(data_sub)\n",
    "test_ratio = 0.25\n",
    "train_size = int((1- test_ratio) * datasize)\n",
    "test_size = int(test_ratio * datasize)\n",
    "\n",
    "shuffled = preference.shuffle(datasize, seed=16, reshuffle_each_iteration=False)\n",
    "train = shuffled.take(train_size)\n",
    "test = shuffled.skip(train_size).take(test_size)\n",
    "\n",
    "cached_train = train.shuffle(datasize).batch(8192).cache()\n",
    "cached_test = test.batch(4096).cache()"
   ]
  },
  {
   "cell_type": "code",
   "execution_count": 41,
   "id": "a11af905",
   "metadata": {},
   "outputs": [],
   "source": [
    "model = RetrievalModelAdvanced()\n",
    "model.compile(optimizer=tf.keras.optimizers.Adagrad(0.1))"
   ]
  },
  {
   "cell_type": "code",
   "execution_count": null,
   "id": "5a48b3fd",
   "metadata": {},
   "outputs": [],
   "source": [
    "# import shutil\n",
    "# shutil.rmtree('../logs/')"
   ]
  },
  {
   "cell_type": "code",
   "execution_count": 42,
   "id": "24a45864",
   "metadata": {},
   "outputs": [
    {
     "data": {
      "text/html": [
       "\n",
       "      <iframe id=\"tensorboard-frame-4b512ada2aa3713c\" width=\"100%\" height=\"800\" frameborder=\"0\">\n",
       "      </iframe>\n",
       "      <script>\n",
       "        (function() {\n",
       "          const frame = document.getElementById(\"tensorboard-frame-4b512ada2aa3713c\");\n",
       "          const url = new URL(\"/\", window.location);\n",
       "          const port = 6006;\n",
       "          if (port) {\n",
       "            url.port = port;\n",
       "          }\n",
       "          frame.src = url;\n",
       "        })();\n",
       "      </script>\n",
       "    "
      ],
      "text/plain": [
       "<IPython.core.display.HTML object>"
      ]
     },
     "metadata": {},
     "output_type": "display_data"
    }
   ],
   "source": [
    "logdir=\"../logs/fit/\" + datetime.datetime.now().strftime(\"%Y%m%d-%H%M%S\")\n",
    "tensorboard_callback = tf.keras.callbacks.TensorBoard(log_dir=logdir)\n",
    "%tensorboard --logdir {logdir}"
   ]
  },
  {
   "cell_type": "code",
   "execution_count": 43,
   "id": "8d7b9801",
   "metadata": {},
   "outputs": [
    {
     "name": "stdout",
     "output_type": "stream",
     "text": [
      "Epoch 1/20\n",
      "275/275 [==============================] - 456s 2s/step - factorized_top_k/top_1_categorical_accuracy: 0.1030 - factorized_top_k/top_5_categorical_accuracy: 0.4139 - factorized_top_k/top_10_categorical_accuracy: 0.5880 - factorized_top_k/top_50_categorical_accuracy: 0.9483 - factorized_top_k/top_100_categorical_accuracy: 0.9999 - loss: 65146.7419 - regularization_loss: 0.0000e+00 - total_loss: 65146.7419 - val_factorized_top_k/top_1_categorical_accuracy: 0.1366 - val_factorized_top_k/top_5_categorical_accuracy: 0.5044 - val_factorized_top_k/top_10_categorical_accuracy: 0.6841 - val_factorized_top_k/top_50_categorical_accuracy: 0.9789 - val_factorized_top_k/top_100_categorical_accuracy: 1.0000 - val_loss: 3003.7695 - val_regularization_loss: 0.0000e+00 - val_total_loss: 3003.7695\n",
      "Epoch 2/20\n",
      "275/275 [==============================] - 222s 807ms/step - factorized_top_k/top_1_categorical_accuracy: 0.2540 - factorized_top_k/top_5_categorical_accuracy: 0.6859 - factorized_top_k/top_10_categorical_accuracy: 0.8229 - factorized_top_k/top_50_categorical_accuracy: 0.9916 - factorized_top_k/top_100_categorical_accuracy: 1.0000 - loss: 56518.9288 - regularization_loss: 0.0000e+00 - total_loss: 56518.9288 - val_factorized_top_k/top_1_categorical_accuracy: 0.1438 - val_factorized_top_k/top_5_categorical_accuracy: 0.4944 - val_factorized_top_k/top_10_categorical_accuracy: 0.6677 - val_factorized_top_k/top_50_categorical_accuracy: 0.9749 - val_factorized_top_k/top_100_categorical_accuracy: 1.0000 - val_loss: 3117.3208 - val_regularization_loss: 0.0000e+00 - val_total_loss: 3117.3208\n",
      "Epoch 3/20\n",
      "275/275 [==============================] - 238s 867ms/step - factorized_top_k/top_1_categorical_accuracy: 0.3699 - factorized_top_k/top_5_categorical_accuracy: 0.8154 - factorized_top_k/top_10_categorical_accuracy: 0.9065 - factorized_top_k/top_50_categorical_accuracy: 0.9966 - factorized_top_k/top_100_categorical_accuracy: 1.0000 - loss: 50818.2450 - regularization_loss: 0.0000e+00 - total_loss: 50818.2450 - val_factorized_top_k/top_1_categorical_accuracy: 0.1404 - val_factorized_top_k/top_5_categorical_accuracy: 0.4807 - val_factorized_top_k/top_10_categorical_accuracy: 0.6517 - val_factorized_top_k/top_50_categorical_accuracy: 0.9702 - val_factorized_top_k/top_100_categorical_accuracy: 1.0000 - val_loss: 3348.6653 - val_regularization_loss: 0.0000e+00 - val_total_loss: 3348.6653\n",
      "Epoch 4/20\n",
      "275/275 [==============================] - 243s 883ms/step - factorized_top_k/top_1_categorical_accuracy: 0.4050 - factorized_top_k/top_5_categorical_accuracy: 0.8557 - factorized_top_k/top_10_categorical_accuracy: 0.9307 - factorized_top_k/top_50_categorical_accuracy: 0.9978 - factorized_top_k/top_100_categorical_accuracy: 1.0000 - loss: 48738.9703 - regularization_loss: 0.0000e+00 - total_loss: 48738.9703 - val_factorized_top_k/top_1_categorical_accuracy: 0.1407 - val_factorized_top_k/top_5_categorical_accuracy: 0.4792 - val_factorized_top_k/top_10_categorical_accuracy: 0.6483 - val_factorized_top_k/top_50_categorical_accuracy: 0.9685 - val_factorized_top_k/top_100_categorical_accuracy: 1.0000 - val_loss: 3515.7771 - val_regularization_loss: 0.0000e+00 - val_total_loss: 3515.7771\n",
      "Epoch 5/20\n",
      "275/275 [==============================] - 255s 927ms/step - factorized_top_k/top_1_categorical_accuracy: 0.4210 - factorized_top_k/top_5_categorical_accuracy: 0.8753 - factorized_top_k/top_10_categorical_accuracy: 0.9423 - factorized_top_k/top_50_categorical_accuracy: 0.9984 - factorized_top_k/top_100_categorical_accuracy: 1.0000 - loss: 47718.5991 - regularization_loss: 0.0000e+00 - total_loss: 47718.5991 - val_factorized_top_k/top_1_categorical_accuracy: 0.1407 - val_factorized_top_k/top_5_categorical_accuracy: 0.4781 - val_factorized_top_k/top_10_categorical_accuracy: 0.6458 - val_factorized_top_k/top_50_categorical_accuracy: 0.9674 - val_factorized_top_k/top_100_categorical_accuracy: 1.0000 - val_loss: 3634.6589 - val_regularization_loss: 0.0000e+00 - val_total_loss: 3634.6589\n",
      "Epoch 6/20\n",
      "275/275 [==============================] - 306s 1s/step - factorized_top_k/top_1_categorical_accuracy: 0.4302 - factorized_top_k/top_5_categorical_accuracy: 0.8877 - factorized_top_k/top_10_categorical_accuracy: 0.9494 - factorized_top_k/top_50_categorical_accuracy: 0.9986 - factorized_top_k/top_100_categorical_accuracy: 1.0000 - loss: 47024.7728 - regularization_loss: 0.0000e+00 - total_loss: 47024.7728 - val_factorized_top_k/top_1_categorical_accuracy: 0.1399 - val_factorized_top_k/top_5_categorical_accuracy: 0.4758 - val_factorized_top_k/top_10_categorical_accuracy: 0.6431 - val_factorized_top_k/top_50_categorical_accuracy: 0.9664 - val_factorized_top_k/top_100_categorical_accuracy: 1.0000 - val_loss: 3744.2715 - val_regularization_loss: 0.0000e+00 - val_total_loss: 3744.2715\n",
      "Epoch 7/20\n",
      "275/275 [==============================] - 291s 1s/step - factorized_top_k/top_1_categorical_accuracy: 0.4359 - factorized_top_k/top_5_categorical_accuracy: 0.8966 - factorized_top_k/top_10_categorical_accuracy: 0.9545 - factorized_top_k/top_50_categorical_accuracy: 0.9988 - factorized_top_k/top_100_categorical_accuracy: 1.0000 - loss: 46507.0940 - regularization_loss: 0.0000e+00 - total_loss: 46507.0940 - val_factorized_top_k/top_1_categorical_accuracy: 0.1372 - val_factorized_top_k/top_5_categorical_accuracy: 0.4736 - val_factorized_top_k/top_10_categorical_accuracy: 0.6403 - val_factorized_top_k/top_50_categorical_accuracy: 0.9653 - val_factorized_top_k/top_100_categorical_accuracy: 1.0000 - val_loss: 3848.6636 - val_regularization_loss: 0.0000e+00 - val_total_loss: 3848.6636\n",
      "Epoch 8/20\n",
      "275/275 [==============================] - 301s 1s/step - factorized_top_k/top_1_categorical_accuracy: 0.4365 - factorized_top_k/top_5_categorical_accuracy: 0.9035 - factorized_top_k/top_10_categorical_accuracy: 0.9584 - factorized_top_k/top_50_categorical_accuracy: 0.9990 - factorized_top_k/top_100_categorical_accuracy: 1.0000 - loss: 46095.0532 - regularization_loss: 0.0000e+00 - total_loss: 46095.0532 - val_factorized_top_k/top_1_categorical_accuracy: 0.1340 - val_factorized_top_k/top_5_categorical_accuracy: 0.4718 - val_factorized_top_k/top_10_categorical_accuracy: 0.6383 - val_factorized_top_k/top_50_categorical_accuracy: 0.9644 - val_factorized_top_k/top_100_categorical_accuracy: 1.0000 - val_loss: 3944.0073 - val_regularization_loss: 0.0000e+00 - val_total_loss: 3944.0073\n",
      "Epoch 9/20\n",
      "275/275 [==============================] - 246s 896ms/step - factorized_top_k/top_1_categorical_accuracy: 0.4348 - factorized_top_k/top_5_categorical_accuracy: 0.9092 - factorized_top_k/top_10_categorical_accuracy: 0.9615 - factorized_top_k/top_50_categorical_accuracy: 0.9991 - factorized_top_k/top_100_categorical_accuracy: 1.0000 - loss: 45754.5460 - regularization_loss: 0.0000e+00 - total_loss: 45754.5460 - val_factorized_top_k/top_1_categorical_accuracy: 0.1317 - val_factorized_top_k/top_5_categorical_accuracy: 0.4706 - val_factorized_top_k/top_10_categorical_accuracy: 0.6369 - val_factorized_top_k/top_50_categorical_accuracy: 0.9636 - val_factorized_top_k/top_100_categorical_accuracy: 1.0000 - val_loss: 4030.8213 - val_regularization_loss: 0.0000e+00 - val_total_loss: 4030.8213\n",
      "Epoch 10/20\n",
      "275/275 [==============================] - 284s 1s/step - factorized_top_k/top_1_categorical_accuracy: 0.4323 - factorized_top_k/top_5_categorical_accuracy: 0.9142 - factorized_top_k/top_10_categorical_accuracy: 0.9641 - factorized_top_k/top_50_categorical_accuracy: 0.9992 - factorized_top_k/top_100_categorical_accuracy: 1.0000 - loss: 45469.6273 - regularization_loss: 0.0000e+00 - total_loss: 45469.6273 - val_factorized_top_k/top_1_categorical_accuracy: 0.1295 - val_factorized_top_k/top_5_categorical_accuracy: 0.4695 - val_factorized_top_k/top_10_categorical_accuracy: 0.6356 - val_factorized_top_k/top_50_categorical_accuracy: 0.9628 - val_factorized_top_k/top_100_categorical_accuracy: 1.0000 - val_loss: 4112.4102 - val_regularization_loss: 0.0000e+00 - val_total_loss: 4112.4102\n",
      "Epoch 11/20\n"
     ]
    },
    {
     "name": "stdout",
     "output_type": "stream",
     "text": [
      "275/275 [==============================] - 295s 1s/step - factorized_top_k/top_1_categorical_accuracy: 0.4312 - factorized_top_k/top_5_categorical_accuracy: 0.9184 - factorized_top_k/top_10_categorical_accuracy: 0.9664 - factorized_top_k/top_50_categorical_accuracy: 0.9992 - factorized_top_k/top_100_categorical_accuracy: 1.0000 - loss: 45228.2496 - regularization_loss: 0.0000e+00 - total_loss: 45228.2496 - val_factorized_top_k/top_1_categorical_accuracy: 0.1289 - val_factorized_top_k/top_5_categorical_accuracy: 0.4688 - val_factorized_top_k/top_10_categorical_accuracy: 0.6343 - val_factorized_top_k/top_50_categorical_accuracy: 0.9622 - val_factorized_top_k/top_100_categorical_accuracy: 1.0000 - val_loss: 4188.1270 - val_regularization_loss: 0.0000e+00 - val_total_loss: 4188.1270\n",
      "Epoch 12/20\n",
      "275/275 [==============================] - 286s 1s/step - factorized_top_k/top_1_categorical_accuracy: 0.4309 - factorized_top_k/top_5_categorical_accuracy: 0.9222 - factorized_top_k/top_10_categorical_accuracy: 0.9682 - factorized_top_k/top_50_categorical_accuracy: 0.9993 - factorized_top_k/top_100_categorical_accuracy: 1.0000 - loss: 45021.0875 - regularization_loss: 0.0000e+00 - total_loss: 45021.0875 - val_factorized_top_k/top_1_categorical_accuracy: 0.1277 - val_factorized_top_k/top_5_categorical_accuracy: 0.4682 - val_factorized_top_k/top_10_categorical_accuracy: 0.6331 - val_factorized_top_k/top_50_categorical_accuracy: 0.9614 - val_factorized_top_k/top_100_categorical_accuracy: 1.0000 - val_loss: 4259.7827 - val_regularization_loss: 0.0000e+00 - val_total_loss: 4259.7827\n",
      "Epoch 13/20\n",
      "275/275 [==============================] - 293s 1s/step - factorized_top_k/top_1_categorical_accuracy: 0.4335 - factorized_top_k/top_5_categorical_accuracy: 0.9253 - factorized_top_k/top_10_categorical_accuracy: 0.9698 - factorized_top_k/top_50_categorical_accuracy: 0.9993 - factorized_top_k/top_100_categorical_accuracy: 1.0000 - loss: 44841.5576 - regularization_loss: 0.0000e+00 - total_loss: 44841.5576 - val_factorized_top_k/top_1_categorical_accuracy: 0.1285 - val_factorized_top_k/top_5_categorical_accuracy: 0.4679 - val_factorized_top_k/top_10_categorical_accuracy: 0.6322 - val_factorized_top_k/top_50_categorical_accuracy: 0.9608 - val_factorized_top_k/top_100_categorical_accuracy: 1.0000 - val_loss: 4326.1797 - val_regularization_loss: 0.0000e+00 - val_total_loss: 4326.1797\n",
      "Epoch 14/20\n",
      "275/275 [==============================] - 293s 1s/step - factorized_top_k/top_1_categorical_accuracy: 0.4364 - factorized_top_k/top_5_categorical_accuracy: 0.9280 - factorized_top_k/top_10_categorical_accuracy: 0.9712 - factorized_top_k/top_50_categorical_accuracy: 0.9994 - factorized_top_k/top_100_categorical_accuracy: 1.0000 - loss: 44684.3771 - regularization_loss: 0.0000e+00 - total_loss: 44684.3771 - val_factorized_top_k/top_1_categorical_accuracy: 0.1280 - val_factorized_top_k/top_5_categorical_accuracy: 0.4673 - val_factorized_top_k/top_10_categorical_accuracy: 0.6315 - val_factorized_top_k/top_50_categorical_accuracy: 0.9604 - val_factorized_top_k/top_100_categorical_accuracy: 1.0000 - val_loss: 4389.0693 - val_regularization_loss: 0.0000e+00 - val_total_loss: 4389.0693\n",
      "Epoch 15/20\n",
      "275/275 [==============================] - 286s 1s/step - factorized_top_k/top_1_categorical_accuracy: 0.4396 - factorized_top_k/top_5_categorical_accuracy: 0.9304 - factorized_top_k/top_10_categorical_accuracy: 0.9723 - factorized_top_k/top_50_categorical_accuracy: 0.9994 - factorized_top_k/top_100_categorical_accuracy: 1.0000 - loss: 44545.7375 - regularization_loss: 0.0000e+00 - total_loss: 44545.7375 - val_factorized_top_k/top_1_categorical_accuracy: 0.1283 - val_factorized_top_k/top_5_categorical_accuracy: 0.4667 - val_factorized_top_k/top_10_categorical_accuracy: 0.6308 - val_factorized_top_k/top_50_categorical_accuracy: 0.9599 - val_factorized_top_k/top_100_categorical_accuracy: 1.0000 - val_loss: 4447.4937 - val_regularization_loss: 0.0000e+00 - val_total_loss: 4447.4937\n",
      "Epoch 16/20\n",
      "275/275 [==============================] - 282s 1s/step - factorized_top_k/top_1_categorical_accuracy: 0.4442 - factorized_top_k/top_5_categorical_accuracy: 0.9325 - factorized_top_k/top_10_categorical_accuracy: 0.9732 - factorized_top_k/top_50_categorical_accuracy: 0.9995 - factorized_top_k/top_100_categorical_accuracy: 1.0000 - loss: 44422.2244 - regularization_loss: 0.0000e+00 - total_loss: 44422.2244 - val_factorized_top_k/top_1_categorical_accuracy: 0.1290 - val_factorized_top_k/top_5_categorical_accuracy: 0.4662 - val_factorized_top_k/top_10_categorical_accuracy: 0.6300 - val_factorized_top_k/top_50_categorical_accuracy: 0.9595 - val_factorized_top_k/top_100_categorical_accuracy: 1.0000 - val_loss: 4502.9272 - val_regularization_loss: 0.0000e+00 - val_total_loss: 4502.9272\n",
      "Epoch 17/20\n",
      "275/275 [==============================] - 293s 1s/step - factorized_top_k/top_1_categorical_accuracy: 0.4480 - factorized_top_k/top_5_categorical_accuracy: 0.9343 - factorized_top_k/top_10_categorical_accuracy: 0.9741 - factorized_top_k/top_50_categorical_accuracy: 0.9995 - factorized_top_k/top_100_categorical_accuracy: 1.0000 - loss: 44311.5466 - regularization_loss: 0.0000e+00 - total_loss: 44311.5466 - val_factorized_top_k/top_1_categorical_accuracy: 0.1291 - val_factorized_top_k/top_5_categorical_accuracy: 0.4660 - val_factorized_top_k/top_10_categorical_accuracy: 0.6292 - val_factorized_top_k/top_50_categorical_accuracy: 0.9592 - val_factorized_top_k/top_100_categorical_accuracy: 1.0000 - val_loss: 4554.7070 - val_regularization_loss: 0.0000e+00 - val_total_loss: 4554.7070\n",
      "Epoch 18/20\n",
      "275/275 [==============================] - 264s 959ms/step - factorized_top_k/top_1_categorical_accuracy: 0.4525 - factorized_top_k/top_5_categorical_accuracy: 0.9360 - factorized_top_k/top_10_categorical_accuracy: 0.9748 - factorized_top_k/top_50_categorical_accuracy: 0.9995 - factorized_top_k/top_100_categorical_accuracy: 1.0000 - loss: 44211.4622 - regularization_loss: 0.0000e+00 - total_loss: 44211.4622 - val_factorized_top_k/top_1_categorical_accuracy: 0.1301 - val_factorized_top_k/top_5_categorical_accuracy: 0.4660 - val_factorized_top_k/top_10_categorical_accuracy: 0.6287 - val_factorized_top_k/top_50_categorical_accuracy: 0.9589 - val_factorized_top_k/top_100_categorical_accuracy: 1.0000 - val_loss: 4604.3594 - val_regularization_loss: 0.0000e+00 - val_total_loss: 4604.3594\n",
      "Epoch 19/20\n",
      "275/275 [==============================] - 233s 849ms/step - factorized_top_k/top_1_categorical_accuracy: 0.4566 - factorized_top_k/top_5_categorical_accuracy: 0.9375 - factorized_top_k/top_10_categorical_accuracy: 0.9755 - factorized_top_k/top_50_categorical_accuracy: 0.9995 - factorized_top_k/top_100_categorical_accuracy: 1.0000 - loss: 44120.6192 - regularization_loss: 0.0000e+00 - total_loss: 44120.6192 - val_factorized_top_k/top_1_categorical_accuracy: 0.1303 - val_factorized_top_k/top_5_categorical_accuracy: 0.4654 - val_factorized_top_k/top_10_categorical_accuracy: 0.6283 - val_factorized_top_k/top_50_categorical_accuracy: 0.9586 - val_factorized_top_k/top_100_categorical_accuracy: 1.0000 - val_loss: 4651.0327 - val_regularization_loss: 0.0000e+00 - val_total_loss: 4651.0327\n",
      "Epoch 20/20\n",
      "275/275 [==============================] - 235s 854ms/step - factorized_top_k/top_1_categorical_accuracy: 0.4601 - factorized_top_k/top_5_categorical_accuracy: 0.9389 - factorized_top_k/top_10_categorical_accuracy: 0.9761 - factorized_top_k/top_50_categorical_accuracy: 0.9995 - factorized_top_k/top_100_categorical_accuracy: 1.0000 - loss: 44037.3808 - regularization_loss: 0.0000e+00 - total_loss: 44037.3808 - val_factorized_top_k/top_1_categorical_accuracy: 0.1313 - val_factorized_top_k/top_5_categorical_accuracy: 0.4652 - val_factorized_top_k/top_10_categorical_accuracy: 0.6274 - val_factorized_top_k/top_50_categorical_accuracy: 0.9583 - val_factorized_top_k/top_100_categorical_accuracy: 1.0000 - val_loss: 4696.2217 - val_regularization_loss: 0.0000e+00 - val_total_loss: 4696.2217\n"
     ]
    }
   ],
   "source": [
    "history = model.fit(cached_train, validation_data=cached_test, epochs=10, batch_size = 8192, callbacks = [tensorboard_callback])"
   ]
  },
  {
   "cell_type": "code",
   "execution_count": 44,
   "id": "44a8895d",
   "metadata": {},
   "outputs": [
    {
     "data": {
      "image/png": "[encoded data removed]",
      "text/plain": [
       "<Figure size 432x288 with 1 Axes>"
      ]
     },
     "metadata": {
      "needs_background": "light"
     },
     "output_type": "display_data"
    }
   ],
   "source": [
    "plt.plot(history.history['loss'], label = 'Train loss')\n",
    "plt.plot(history.history['val_loss'], label = 'Test loss')\n",
    "plt.legend();"
   ]
  },
  {
   "cell_type": "code",
   "execution_count": 45,
   "id": "e633931e",
   "metadata": {},
   "outputs": [
    {
     "data": {
      "image/png": "[encoded data removed]",
      "text/plain": [
       "<Figure size 432x288 with 1 Axes>"
      ]
     },
     "metadata": {
      "needs_background": "light"
     },
     "output_type": "display_data"
    }
   ],
   "source": [
    "plt.plot(history.history['factorized_top_k/top_5_categorical_accuracy'], label = 'factorized_top_k/top_5_categorical_accuracy')\n",
    "plt.plot(history.history['val_factorized_top_k/top_5_categorical_accuracy'], label = 'val_factorized_top_k/top_5_categorical_accuracy')\n",
    "plt.legend();"
   ]
  },
  {
   "cell_type": "code",
   "execution_count": 46,
   "id": "927e37f3",
   "metadata": {},
   "outputs": [
    {
     "name": "stdout",
     "output_type": "stream",
     "text": [
      "275/275 [==============================] - 156s 562ms/step - factorized_top_k/top_1_categorical_accuracy: 0.4476 - factorized_top_k/top_5_categorical_accuracy: 0.9369 - factorized_top_k/top_10_categorical_accuracy: 0.9769 - factorized_top_k/top_50_categorical_accuracy: 0.9996 - factorized_top_k/top_100_categorical_accuracy: 1.0000 - loss: 44870.3026 - regularization_loss: 0.0000e+00 - total_loss: 44870.3026\n"
     ]
    },
    {
     "data": {
      "text/plain": [
       "{'factorized_top_k/top_1_categorical_accuracy': 0.44761940836906433,\n",
       " 'factorized_top_k/top_5_categorical_accuracy': 0.9369252324104309,\n",
       " 'factorized_top_k/top_10_categorical_accuracy': 0.9768857955932617,\n",
       " 'factorized_top_k/top_50_categorical_accuracy': 0.9996156692504883,\n",
       " 'factorized_top_k/top_100_categorical_accuracy': 1.0,\n",
       " 'loss': 28255.451171875,\n",
       " 'regularization_loss': 0,\n",
       " 'total_loss': 28255.451171875}"
      ]
     },
     "execution_count": 46,
     "metadata": {},
     "output_type": "execute_result"
    }
   ],
   "source": [
    "model.evaluate(cached_train, return_dict=True)"
   ]
  },
  {
   "cell_type": "code",
   "execution_count": 47,
   "id": "3c1df1b3",
   "metadata": {},
   "outputs": [
    {
     "name": "stdout",
     "output_type": "stream",
     "text": [
      "184/184 [==============================] - 33s 175ms/step - factorized_top_k/top_1_categorical_accuracy: 0.1313 - factorized_top_k/top_5_categorical_accuracy: 0.4652 - factorized_top_k/top_10_categorical_accuracy: 0.6274 - factorized_top_k/top_50_categorical_accuracy: 0.9583 - factorized_top_k/top_100_categorical_accuracy: 1.0000 - loss: 39035.6028 - regularization_loss: 0.0000e+00 - total_loss: 39035.6028\n"
     ]
    },
    {
     "data": {
      "text/plain": [
       "{'factorized_top_k/top_1_categorical_accuracy': 0.13129505515098572,\n",
       " 'factorized_top_k/top_5_categorical_accuracy': 0.4651966989040375,\n",
       " 'factorized_top_k/top_10_categorical_accuracy': 0.627443253993988,\n",
       " 'factorized_top_k/top_50_categorical_accuracy': 0.9583055973052979,\n",
       " 'factorized_top_k/top_100_categorical_accuracy': 0.9999773502349854,\n",
       " 'loss': 4696.2216796875,\n",
       " 'regularization_loss': 0,\n",
       " 'total_loss': 4696.2216796875}"
      ]
     },
     "execution_count": 47,
     "metadata": {},
     "output_type": "execute_result"
    }
   ],
   "source": [
    "model.evaluate(cached_test, return_dict=True)"
   ]
  },
  {
   "cell_type": "code",
   "execution_count": 48,
   "id": "461d01d9",
   "metadata": {},
   "outputs": [
    {
     "data": {
      "text/plain": [
       "<tensorflow_recommenders.layers.factorized_top_k.BruteForce at 0x2a45a2c4100>"
      ]
     },
     "execution_count": 48,
     "metadata": {},
     "output_type": "execute_result"
    }
   ],
   "source": [
    "# Use brute-force search to set up retrieval\n",
    "\n",
    "index = tfrs.layers.factorized_top_k.BruteForce(model.query_model)\n",
    "index.index(hotel_cluster.batch(1000).map(model.candidate_model), hotel_cluster)"
   ]
  },
  {
   "cell_type": "code",
   "execution_count": 49,
   "id": "fc40a8d5",
   "metadata": {},
   "outputs": [
    {
     "name": "stdout",
     "output_type": "stream",
     "text": [
      "Top 5 recommendations for user 94390: [b'2' b'61' b'38' b'57' b'78']\n",
      "Scores for top 5: [ -9.484797 -10.657951 -11.067793 -11.844119 -11.890082]\n"
     ]
    }
   ],
   "source": [
    "# Recommendation for 1 input\n",
    "\n",
    "input = {'user_id': tf.constant(['42']),\n",
    "         'user_location_city': tf.constant(['41898']),\n",
    "         'is_mobile': tf.constant(['0']),\n",
    "         'is_package': tf.constant(['0']),\n",
    "         'channel': tf.constant(['0']),\n",
    "         'srch_adults_cnt': tf.constant(['2']),\n",
    "         'srch_children_cnt': tf.constant(['2']),\n",
    "         'srch_rm_cnt': tf.constant(['1']),\n",
    "         'srch_destination_id': tf.constant(['53']),\n",
    "         'hotel_market': tf.constant(['53']),\n",
    "         'days_to_checkin': tf.constant(['1']),\n",
    "         'stay_length': tf.constant(['1']),\n",
    "         'month_of_booking': tf.constant(['4']),\n",
    "         'month_of_staying': tf.constant(['6']),\n",
    "         \n",
    "        }\n",
    "\n",
    "score, recommend = index(input)\n",
    "\n",
    "print(f\"Top 5 recommendations for user 94390: {recommend[0, :5]}\")\n",
    "print(f'Scores for top 5: {score[0, :5]}')"
   ]
  },
  {
   "cell_type": "code",
   "execution_count": 50,
   "id": "a463f32c",
   "metadata": {},
   "outputs": [
    {
     "name": "stderr",
     "output_type": "stream",
     "text": [
      "WARNING:absl:Found untraced functions such as query_with_exclusions while saving (showing 1 of 1). These functions will not be directly callable after loading.\n"
     ]
    }
   ],
   "source": [
    "## model have been ran and saved.\n",
    "\n",
    "# index.save('../models/TFRS_Full_Dataset/')"
   ]
  },
  {
   "cell_type": "code",
   "execution_count": null,
   "id": "d556c58d",
   "metadata": {},
   "outputs": [],
   "source": [
    "loaded = tf.keras.models.load_model('../models/TFRS_Full_Dataset/')"
   ]
  },
  {
   "cell_type": "code",
   "execution_count": 51,
   "id": "6a81cdfa",
   "metadata": {},
   "outputs": [
    {
     "name": "stdout",
     "output_type": "stream",
     "text": [
      "Trainset MAP@5 score: 0.8070921862912508\n"
     ]
    }
   ],
   "source": [
    "predictions = convert_tensor_to_mapX_format(index, train)\n",
    "target = train.map(lambda x: x['hotel_cluster'])\n",
    "target = list(target.as_numpy_iterator())\n",
    "target = [[x.decode('utf-8')] for x in target]\n",
    "print(f'Trainset MAP@5 score: {ml_metrics.mapk(target, predictions, k=5)}')"
   ]
  },
  {
   "cell_type": "code",
   "execution_count": 52,
   "id": "713fa9a5",
   "metadata": {},
   "outputs": [
    {
     "name": "stdout",
     "output_type": "stream",
     "text": [
      "Testset MAP@5 score: 0.3050001799584896\n"
     ]
    }
   ],
   "source": [
    "predictions = convert_tensor_to_mapX_format(index, test)\n",
    "target = test.map(lambda x: x['hotel_cluster'])\n",
    "target = list(target.as_numpy_iterator())\n",
    "target = [[x.decode('utf-8')] for x in target]\n",
    "print(f'Testset MAP@5 score: {ml_metrics.mapk(target, predictions, k=5)}')"
   ]
  },
  {
   "cell_type": "markdown",
   "id": "abc4975d",
   "metadata": {},
   "source": [
    "#### Predict for Kaggle (Only Run if Wanted to save file for Kaggle Submission)"
   ]
  },
  {
   "cell_type": "code",
   "execution_count": 53,
   "id": "6b8a29dc",
   "metadata": {},
   "outputs": [],
   "source": [
    "def convert_tensor_to_kaggleformat(index, kaggle):\n",
    "        \n",
    "    '''\n",
    "    Function to map output of BruteForce Layer to Kaggle submission format\n",
    "    \n",
    "    '''\n",
    "       \n",
    "    submit = kaggle[['id']].copy(deep = True)\n",
    "    \n",
    "    df = kaggle.astype(str)\n",
    "    df = tf.data.Dataset.from_tensor_slices(dict(df))\n",
    "    \n",
    "    df = df.map(lambda x: {'user_id': x['user_id'],\n",
    "                           'user_location_city': x['user_location_city'],\n",
    "                           'is_mobile': x['is_mobile'],\n",
    "                           'is_package': x['is_package'],\n",
    "                           'channel': x['channel'],\n",
    "                           'srch_adults_cnt': x['srch_adults_cnt'],\n",
    "                           'srch_children_cnt': x['srch_children_cnt'],\n",
    "                           'srch_rm_cnt': x['srch_rm_cnt'],\n",
    "                           'srch_destination_id': x['srch_destination_id'],\n",
    "                           'hotel_market': x['hotel_market'],\n",
    "                           'days_to_checkin': x['days_to_checkin'],\n",
    "                           'stay_length': x['stay_length'],\n",
    "                           'month_of_booking': x['month_of_booking'],\n",
    "                           'month_of_staying': x['month_of_staying']\n",
    "                          }\n",
    "               )\n",
    "    \n",
    "    prediction = pd.DataFrame()\n",
    "    \n",
    "    for row in df.batch(8192):\n",
    "        top = index(row)[1].numpy()[:, :5]\n",
    "        pred = pd.DataFrame(top).apply(lambda x: ' '.join([x[i].decode('utf-8') for i in range(5)]), axis = 1)               \n",
    "        prediction = pd.concat([prediction, pred]).reset_index(drop = True)\n",
    "    \n",
    "    submit['hotel_cluster']= prediction\n",
    "    \n",
    "    return submit"
   ]
  },
  {
   "cell_type": "code",
   "execution_count": 54,
   "id": "23657718",
   "metadata": {},
   "outputs": [],
   "source": [
    "submit = convert_tensor_to_kaggleformat(index, kaggle)\n",
    "submit.to_csv('../datasets/submission_tfrs_advance_features.csv', index = False)"
   ]
  },
  {
   "cell_type": "markdown",
   "id": "cba993a7",
   "metadata": {},
   "source": [
    "### 3. Evaluation"
   ]
  },
  {
   "attachments": {},
   "cell_type": "markdown",
   "id": "dd167061",
   "metadata": {},
   "source": [
    "We proceeded to fit our model with the full dataset and the model achieved a trainset score of 0.8071 and a testset score of 0.3050. This obviously show overfitting which we can continue to finetune more. We like this model given the fact that despite the fact that we haven't improve on it much but it already achieved a score which put it in 2nd place of all our models and the score is not far away from our top model.\n",
    "\n",
    "We also like that the model can handle new categories with ease which is a challenge for all our other ML models. Furthermore we can train this model by batches which will sort the issue of out of memory when training with huge datasets. This also means that we do not have to retrain the model when we have need data and we can keep improving the model when we have new data. In addition, the model is one of the models trained the fastest.\n",
    "\n",
    "This model also have the flexibility to be reconfigured for different requirement. For example as mentioned earlier, our model is configured to recommend hotel cluster based on the user past preferences and searched destination. We can also reconfigure the model to recommend destinations and hotel cluster based on user past preferences by putting destination under the Candidate Model and using the destination dataset to find similarities between destinations."
   ]
  },
  {
   "cell_type": "markdown",
   "id": "2bffc779",
   "metadata": {},
   "source": [
    "This model obtain a Kaggle Score of 0.2194."
   ]
  },
  {
   "cell_type": "markdown",
   "id": "5a89c129",
   "metadata": {},
   "source": [
    "#### Possible Further improvement"
   ]
  },
  {
   "cell_type": "markdown",
   "id": "4ba43b5a",
   "metadata": {},
   "source": [
    "1. Finetune the model to address overfitting using early stopping or regularization\n",
    "2. Build a multitask TFRS model which include a ranking task."
   ]
  }
 ],
 "metadata": {
  "kernelspec": {
   "display_name": "Python 3",
   "language": "python",
   "name": "python3"
  },
  "language_info": {
   "codemirror_mode": {
    "name": "ipython",
    "version": 3
   },
   "file_extension": ".py",
   "mimetype": "text/x-python",
   "name": "python",
   "nbconvert_exporter": "python",
   "pygments_lexer": "ipython3",
   "version": "3.8.8"
  }
 },
 "nbformat": 4,
 "nbformat_minor": 5
}
